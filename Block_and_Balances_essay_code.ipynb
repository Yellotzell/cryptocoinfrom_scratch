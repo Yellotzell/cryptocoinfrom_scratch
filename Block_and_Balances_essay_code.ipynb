{
 "cells": [
  {
   "cell_type": "markdown",
   "metadata": {},
   "source": [
    "### [Writing Assignment 3](#a_1)\n",
    "\n",
    "##### [Consensus mechanisms](#cm)\n",
    "\n",
    "##### [The Bitcoin's consensus and proof of work](#b_cm)\n",
    "\n",
    "##### [The Ethereum's 2.0 proof of stake](#e_cm)\n",
    "\n",
    "##### [Discussion](#disc)\n",
    "\n",
    "##### [References](#ref)\n",
    "\n",
    "\n",
    "### [Programming Assignment 3](#a_2)\n",
    "\n",
    "##### [Building zimcoin's blocks and balances](#block_balance)\n",
    "\n",
    "- [The ```UserState``` class ](#userstate)\n",
    "\n",
    "- [Generating a pool of users and a global record](#pk_users)\n",
    "\n",
    "- [Generating a list of transactions for the block](#trns_list)\n",
    "\n",
    "- [The ```Block``` class ](#block)\n",
    "    - [Constructor](#blockconst)\n",
    "    - [The ```verify_and_get_changes``` method](#blockmeth)\n",
    "\n",
    "- [Mining the block](#mine)\n",
    "    - [The ```mining_hash``` function](#mn_func)\n",
    "    - [The ```mine_block``` function](#bl_func)\n",
    "    - [Multiprocessing the mining](#mltprc)\n",
    "\n",
    "\n",
    "- [Creating a block](#block_gen)\n",
    "\n",
    "\n",
    "- [Mining a block](#mine_block)        \n",
    "\n",
    "\n",
    "- [Verifying a block and update global state](#ver_block)\n",
    "\n",
    "\n",
    "- [Testing](#testing)\n",
    "    - [Scenario for testing difficulty](#testing_diff)\n",
    "    - [Scenario for testing block_id](#testing_bid)\n",
    "    - [Scenario for testing valid number of transactions](#testing_ltr)   \n",
    "    - [Scenario for testing miner's address lenght](#testing_addr) \n",
    "    - [Scenario for testing proof of work](#testing_pow) \n",
    "    - [Scenario for testing transactions verification](#testing_val)"
   ]
  },
  {
   "cell_type": "markdown",
   "metadata": {},
   "source": [
    "<h1><center>Writing  Assignment 3</center></h1>\n",
    "<a id=\"a_1\"></a>"
   ]
  },
  {
   "cell_type": "markdown",
   "metadata": {},
   "source": [
    "## Consensus mechanisms\n",
    "<a id=\"cm\"></a>"
   ]
  },
  {
   "cell_type": "markdown",
   "metadata": {},
   "source": [
    "The introduction of cryptocurrency was born by the need for a decentralised monetary system. That would imply the establishment of a mechanism that would allow online peer to peer transactions without the need for any central authority to either guarantee security or regulate the currency. In the case of these decentralised exchanges (DEX)<sup>[[1]](#ref)</sup>  that are based on blockchain technology the major challenge was to achieve a wide agreement on the state of the cryptocurrency network across the users.\n",
    "\n",
    "In contrary to systems which have a central administrator with the authority to change its state (e.g. databases maintained by governments or organisations), the public blockchains distribute this authority across the network and rely on consensus mechanisms to self regulate and dynamically change its state by wider agreement. For this to be achieved, a consensus mechanism (essentially a set of rules) should be fault tolerant, fair and transparent, secure and efficient<sup>[[2]](#ref)</sup>. \n",
    "\n",
    "More specifically, a consensus mechanism should ensure that:\n",
    "\n",
    "- all the network users should be able to contribute to decision making in terms of its state in a way that meets everyone's concerns<sup>[[3]](#ref)</sup>\n",
    "\n",
    "- all the network users should have equal input opportunities into the shaping of its state (as much as possible)(Egalitarianism)<sup>[[4]](#ref)</sup>\n",
    "\n",
    "The major challenge for implementing such a mechanism which many DEX iterations failed to tackle is the “Byzantine Generals Problem” <sup>[[5]](#ref)</sup>. This refers to a blockchain as a need for establishing coordinated and trustworthy communications within a network to reach collective agreements. A solution was introduced by Satoshi Nakamoto (Bitcoin) with a list of rules known as the proof of work (PoW) protocol.\n",
    "\n",
    "In the previous years there have beed different approaches for achieving consensus. In the following paragraphs we will be focusing on two major mechanisms. The Bitcoin's proof of work and the Ethereum's 2.0 proof of stake."
   ]
  },
  {
   "cell_type": "markdown",
   "metadata": {},
   "source": [
    "## The Bitcoin's consensus and proof of work\n",
    "<a id=\"b_cm\"></a>\n"
   ]
  },
  {
   "cell_type": "markdown",
   "metadata": {},
   "source": [
    "The Bitcoin consensus could fit into three major categories.\n",
    "\n",
    "**Agreement about the rules**\n",
    "The nodes across the network have to agree on:\n",
    "- a definition of criteria to validate transactions\n",
    "- a definition of criteria to validate blocks\n",
    "- the protocol of communication between the nodes and the data formats to be used\n",
    "\n",
    "**Agreement about the history and the state of the blockchain**\n",
    "The nodes should agree on a valid blockchain which contains only blocks that have beed verified by the network. This means that everyone should agree on what transactions have occurred in the past and who are the owners of the current existing unspent outcomes (UTXOs<sup>[[6]](#ref)</sup>).\n",
    "\n",
    "**Agremment on value**\n",
    "\n",
    "It is of paramount importance (not only for the crypto but the FIAT currencies as well) for the users to agree that what is exchanged is of a redeemable value. This part of consensus has a circular nature which means that one's belief about the value of Bitcoin depends on the expectation that the other nodes of the network share the same belief. This seems to be a paradox as in essence, this consensus exists only if all the users believe in it.\n",
    "\n",
    "\n",
    "**Incentives to achieve consensus**\n",
    "\n",
    "Having this framework in place, to achieve a functional distributed consensus, Bitcoin had to come up with a process of node selection for updating the chain. A complete random selection of nodes wouldn't be a safe option as trust would be just an assumption. \n",
    "\n",
    "Shatoshi took advantage of the fact that Bitcoin is not just a blockchain but a currency, and suggested that nodes selected to update the chain should be rewarded with coins for their \"honest\" behaviour. More specifically the reward mechanisms<sup>[[7]](#ref)</sup> Bitcoin has are:\n",
    "\n",
    "- Block reward: the creator of a block (miner) is allowed to include a coin-creation transaction in the block and choose an address of their preference as a recipient. This transaction's amount is fixed and halves every four years (Expected to be practically exhausted in 2140).\n",
    "\n",
    "- Transactions fee: the creator a transaction (sender) can voluntarily choose to give a fraction of the input to the miner. As the block reward decreases over time, it's expected that the senders will be the main contributors to the miners in order to preserve a quality service.\n",
    "\n",
    "\n",
    "However, for the idea of the incentivisation to be functional, there should be a mechanism in place to tackle the following \n",
    "\n",
    "- There should be a fair process for selecting nodes that add blocks on the chain\n",
    "- Since adding a block is rewarded, every node would be keen on adding blocks, increasing the risk for malicious behaviour (Sybil attacks).\n",
    "\n",
    "To ensure that the above will be avoided, Bitcoin operates on the proof of work mechanism to allow new identities to be created. PoW suggests that the nodes to update the chain are selected according to a resource (computational work). Therefore, adding a block to the chain has a level of difficulty as it becomes a matter of competition between nodes.\n",
    "\n",
    "**Proof of work**\n",
    "\n",
    "The PoW protocol is based on a concept of cryptography known as zero knowledge proof<sup>[[8]](#ref)</sup>. In a zero knowledge proof scenario, a prover has to provide the verifier with evidence that they are aware of a specific value without revealing any more information. Essentially it should be trivial to verify the value by just revealing it, but challenging to prove the possession of this knowledge without disclosing any information.\n",
    "\n",
    "In the Bitcoin blockchain a node has to prove that a certain amount of computational work was spent by solving a puzzle (based on Hashcash<sup>[[9]](#ref)</sup>). Then, with minimum effort, the amount of work spent can be verified so the block to be added to the chain.\n",
    "More specifically, for a valid block to be added to the blockchain a node has to execute calculate work by obtaining a hash value that is smaller that a value agreed by the network. The node that comes up with a hash that meets the criteria can propose to the network that the block should be added to the chain. Then, depending on the consensus between the users of the network, the blockchain will be updated and the reward will be collected. The difficulty for adding a block to the chain is adjusted over time as the number of the nodes competing to create blocks increase with new joiners (Bitcoin mining difficulty is adjusted every 2016 blocks which means approximately every two weeks).\n",
    "\n",
    "**Randomness**\n",
    "\n",
    "To ensure fairness, Bitcoin adds randomness in the node selection process. Solving the puzzle to create a new identity is a Bernoulli trial experiment<sup>[[10]](#ref)</sup>). The consensus is happening over 'long' time periods (an average of 10 minutes). However, the mining nodes cannot rest assured that in the end of that time period are closer to a valid puzzle solution that will be accepted on the chain. Instead, as time goes on, the probability of successfully mining a block is increasing exponentially.\n",
    "\n",
    "\n",
    "Therefore, Bitcoin by design offers a probabilistic approach that tackles the traditional problems of consensus that all of its ancestors had and approximates randomness by making a selection in proportion to computer resource which is very difficult to monopolise.\n"
   ]
  },
  {
   "cell_type": "markdown",
   "metadata": {},
   "source": [
    "## The Ethereum's 2.0 proof of stake\n",
    "<a id=\"e_cm\"></a>\n"
   ]
  },
  {
   "cell_type": "markdown",
   "metadata": {},
   "source": [
    "When PoW provides a reliable consensus mechanism for selecting nodes to create identities, its element of competition comes with a few concerns (discussed later). Ethereum 2.0 is sharing similar consensus principals to Bitcoin's but is replacing PoW with a different model for approving creation of new identities (blocks). This mechanism is known as Proof of stake (PoS) and promotes a node selection in proportion to ownership of the currency.\n",
    "\n",
    "Ethereum 2.0 replaces miners with validators. Validators are responsible for gathering transactions and creating blocks so the nodes can agree on the state of the network. To ensure an 'honest' behaviour a node will have to stake 32 ETH for becoming a validator. \n",
    "\n",
    "Validators can be rewarded for the following actions:\n",
    "\n",
    "- Attesting<sup>[[11]](#ref)</sup>: approving blocks as valid to be added on the chain\n",
    "- Proposing blocks to be added on the chain\n",
    "\n",
    "\n",
    "The tasks are allocated randomly between validators. If they fail to credibly perform them (e.g. attesting malicious blocks or going offline when attesting) they can lose all or proportion of their stake.\n",
    "\n",
    "\n",
    "**Sharding and Beacon chain**\n",
    "\n",
    "Sharding<sup>[[12]](#ref)</sup> in the context of Ethereum is the splitting of the blockchain horizontally. Along with the move to PoS, Ethereum 2.0 intends to introduce 64 shard chains with common understanding of the state of the network. \n",
    "This way Ethereum 2.0 avoids increasing the size of the blockchain (like Bitcoin) that would make access for network validators difficult due to the need for expensive equipment and computational power. Having shard chains, there is only need to process the data for the shard to be validated and not the entire network.\n",
    "\n",
    "As a result, the network congestion is being reduced and the transactions speed increases as blocks will are added to multiple chains (shards). Apart from the scaling, sharding has multiple benefits. For example, sharding will encourage more network participation which means improvement to security. As the network becomes larger the failure points and the attack surface decreases.\n",
    "\n",
    "The responsibility of coordination of such a complex network for Ethereum 2.0 lays with a mechanism known as Beacon chain.\n",
    "\n",
    "Beacon chain<sup>[[13]](#ref)</sup> gathers the state information from each shard and makes it available to the others allowing the network to stay synchronised. It also acts as a validator manager by registering stake deposits and issuing rewards and penalties.\n",
    "\n",
    "\n",
    "**Validation**\n",
    "\n",
    "Once a transaction is submitted on a shard, the beacon chain is responsible to algorithmically choose a validator that will propose a block to be added on the chain. It is critical for the PoS protocol that the tasks are allocated to validators randomly. As randomness can be very challenging when it comes to blockchain systems, beacon chain safeguards that the assignment of tasks is unpredictable, unbiased and can be verified.\n",
    "\n",
    "\n",
    "**Attestation** \n",
    "\n",
    "The validators that are not chosen to propose a block have to attest another's block proposal and let beacon chain know that they approve its addition to the chain.\n",
    "For successfully verifying an Ethereum 2.0 shard block a minimum of 128 validators need to attest it. This set of validators is known as \"Committee\".\n",
    "This group of nodes has a specific time window (called slot) in which it is able to propose and validate a block. In each slot only one block can be added and 32 slots consist an epoch. Then, beacon chain disbands the committee and randomly generates a new one.\n",
    "\n",
    "\n",
    "**Crosslinks and Finality**\n",
    "\n",
    "Once a block proposal concentrates a sufficient number of attestations a crosslink is generated. This means that the block is included in the beacon chain and the validator can receive the respective reward.\n",
    "\n",
    "Another measure of security adds the transaction's finality. We consider that a transaction has finallity when it is part of a block on the chain that cannot be changed.\n",
    "\n",
    "Ethereum's proof of work uses Casper protocol<sup>[[14]](#ref)</sup>  to set checkpoints for blocks to be finalised. A block is considered finalised with the consensus of 66% of the validators. \n",
    "\n",
    "An attempt to change a finalised block will result in validators losing their stake. This is an innovation introduced by Ethereum's 2.0 in terms of PoS. Casper protocol is designed to operate in an not trustworthy system but still ensure security by penalising  Malicious behaviour. \n",
    "\n",
    "\n",
    "\n",
    "Unlike PoW, PoS in not relying on the usage of significant amounts of computational power as nodes are selected randomly and are not competing for the reward. Validators guarantee an honest behaviour by putting Ether on stake."
   ]
  },
  {
   "cell_type": "markdown",
   "metadata": {},
   "source": [
    "## Discussion\n",
    "<a id=\"disc\"></a>"
   ]
  },
  {
   "cell_type": "markdown",
   "metadata": {},
   "source": [
    "Bitcoin and Ethereum are sharing similar objectives when it comes to establishing distributed consensus. However each coin's mechanism for creating blocks and changing the state of the network is fundamentally different.\n",
    "\n",
    "Proof of work was introduced in 1993 (it was coined and formalised in 1999<sup>[[15]](#ref)</sup>) and successfully provided security and trust for the Bitcoin blockchain. One of the major concerns though about the PoW protocol is its environmental impact. Consensus is achieved through a continuous, energy hungry competition between nodes. The paramount  electricity consumption consumed to mine Bitcoin blocks (a \"reasonable\" assessment from Cambridge University is suggesting the yearly consumption is between 26.45 and 177.28 at the time of writing<sup>[[16]](#ref)</sup> ) was one of the main drivers for Ethereum 2.0 to turn into alternative mechanisms like PoS. Even with the evolution of more energy efficient computer equipments, an improvenent in the electricity consumption of Bitcoin mining would be debatable. The reason is that essentially PoW is not directly using computation for protecting security but the financial cost the computation. Even in the case of the use of renewable energy the competition between nodes will just adjust their electricity consumptions into their higher potential. \n",
    "\n",
    "Furthermore, PoW requires significant financial potential (expensive equipment) which as a fact is not encouraging wider participation. On the other hand, Ethereum's 2.0 PoS allows a more decentralised view with users not having to invest in hardware and energy consumption. Sharding helps to increase participation as users can run Ethereum clients without the need of intermediary services. \n",
    "\n",
    "In terms of security, PoW is expected to improve the resistance towards 51% attacks. In the case of Bitcoin, to perform such an attack one should have ownership of more that 51% of the the network's mining hash rate. In PoS to control the network the attacker has to own 51% of all the Ether available. This is far more difficult to achieve and involves a high risk of the validator loosing a significant amount of coins. Furthermore, Ethereum's Casper protocol managed to tackle fundamental PoS issues (\"Nothing at stake\"<sup>[[17]](#ref)</sup>). The protocol requires that validators of a block commit certain amount of coins into the Casper contract. Then, Casper keeps track of validators transactions voting. These transactions would be valid for any block but if Casper detects two votes from the same validator in two different blocks of the same height, it will eliminate the Ether from this group of validators. \n",
    "\n",
    "Overall, PoS is a relatively new method to be used from Ethereum 2.0 which means that it is not yet tested over time as much as POW is. However, a successful and faultless implementation of Casper and PoS will play an important role in Ethereum's plan to grow and scale up."
   ]
  },
  {
   "cell_type": "markdown",
   "metadata": {},
   "source": [
    "## References\n",
    "<a id=\"ref\"></a>\n",
    "\n",
    "\n",
    "<sup>[1]</sup> Wong, Joon Ian. \"Coinbase bought a \"decentralized\" crypto exchange. How does that work?\". Quartz. Retrieved 2020-12-03.\n",
    "\n",
    "<sup>[2]</sup> Shubhani Aggarwal, Neeraj Kumar,Chapter Eleven - Cryptographic consensus mechanisms☆☆Introduction to blockchain., Editor(s): Shubhani Aggarwal, Neeraj Kumar, Pethuru Raj, Advances in Computers, Elsevier, Volume 121, 2021, Pages 211-226, ISSN 0065-2458, ISBN 9780128219911\n",
    "\n",
    "<sup>[3]</sup> Hartnett, Tim (26 April 2011). Consensus-Oriented Decision-Making: The CODM Model for Facilitating Groups to Widespread Agreement. New Society Publishers. ISBN 978-0-86571-689-6.\n",
    "\n",
    "<sup>[4]</sup> [Egalitarianism](https://en.wikipedia.org/wiki/Egalitarianism)\n",
    "\n",
    "\n",
    "<sup>[5]</sup> Lamport, L.; Shostak, R.; Pease, M. (1982). \"The Byzantine Generals Problem\" (PDF). ACM Transactions on Programming Languages and Systems. 4 (3): 382–401.\n",
    "\n",
    "<sup>[6]</sup> [Unspent transaction output](https://en.wikipedia.org/wiki/Unspent_transaction_output)\n",
    "\n",
    "\n",
    "<sup>[7]</sup> Browne, Ryan (11 May 2020). \"Bitcoin investors are bracing for a key technical event — here's what you need to know\". CNBC.\n",
    "\n",
    "\n",
    "<sup>[8]</sup> Blum, Manuel; Feldman, Paul; Micali, Silvio (1988). Non-Interactive Zero-Knowledge and Its Applications. Proceedings of the Twentieth Annual ACM Symposium on Theory of Computing (STOC 1988). pp. 103–112. doi:10.1145/62212.62222. ISBN 978-0897912648. S2CID 7282320.\n",
    "\n",
    "\n",
    "<sup>[9]</sup> \"Hashcash - A Denial of Service Counter-Measure\" (PDF). hashcash.org. 1 August 2002. Retrieved 2 January 2019.\n",
    "\n",
    "<sup>[10]</sup> James Victor Uspensky: Introduction to Mathematical Probability, McGraw-Hill, New York 1937, page 45\n",
    "\n",
    "<sup>[11]</sup> [A note on Ethereum 2.0 attestation aggregation strategies](https://notes.ethereum.org/@hww/aggregation)\n",
    "\n",
    "\n",
    "<sup>[12]</sup> [Shard (database architecture)](https://en.wikipedia.org/wiki/Shard_(database_architecture))\n",
    "\n",
    "\n",
    "<sup>[13]</sup> [ETH2: The Beacon Chain](https://ethereum.org/en/eth2/beacon-chain/)\n",
    "\n",
    "<sup>[14]</sup> [CasperLabs](https://casperlabs.io)\n",
    "\n",
    "<sup>[15]</sup> Jakobsson, Markus; Juels, Ari (1999). \"Proofs of Work and Bread Pudding Protocols\". Secure Information Networks: Communications and Multimedia Security. Kluwer Academic Publishers: 258–272. doi:10.1007/978-0-387-35568-9_18\n",
    "\n",
    "\n",
    "<sup>[16]</sup> [Bitcoin energy consumtion (Cambridge University)](https://cbeci.org) \n",
    "\n",
    "<sup>[17]</sup> [Nothing at stake problem](https://golden.com/wiki/Nothing-at-stake_problem)"
   ]
  },
  {
   "cell_type": "markdown",
   "metadata": {},
   "source": [
    "<h1><center>Programming  Assignment 3</center></h1>\n",
    "<a id=\"a_2\"></a>"
   ]
  },
  {
   "cell_type": "markdown",
   "metadata": {},
   "source": [
    "## Building zimcoin's blocks and balances\n",
    "<a id=\"block_balance\"></a>"
   ]
  },
  {
   "cell_type": "markdown",
   "metadata": {},
   "source": [
    "In the following section we will be imprementing the block and balances part of the zimcoin. We will be using the previous developed classes, methods and functions which allow the users to establish and verify transactions. These will be accessed from the ```ZimCoinUtils.py``` file which accompanies this notebook. Infromation about the classes and functions in this file can be accessed by using ```help(<function name>)```, ```print(<function name>.__doc__)``` or by pressing ```shift```+```tab``` when the cursor is on a class or function."
   ]
  },
  {
   "cell_type": "code",
   "execution_count": 1,
   "metadata": {},
   "outputs": [],
   "source": [
    "# Making available all the functions and classes needed \n",
    "# for the implementation by running ZimCoinUtils.py file.\n",
    "# We don't need to import other python libraries as they\n",
    "# are imported when the ZimCoinUtils.py runs\n",
    "\n",
    "%run ZimCoinUtils"
   ]
  },
  {
   "cell_type": "markdown",
   "metadata": {},
   "source": [
    "To continue the development of zimcoin we will be using the ```transaction``` class and the ```create_signed_transaction``` function:"
   ]
  },
  {
   "cell_type": "code",
   "execution_count": 2,
   "metadata": {},
   "outputs": [
    {
     "name": "stdout",
     "output_type": "stream",
     "text": [
      "Help on class Transaction in module __main__:\n",
      "\n",
      "class Transaction(builtins.object)\n",
      " |  Transaction(sender_hash, recipient_hash, sender_public_key, amount, fee, nonce, sender_signature, txid)\n",
      " |  \n",
      " |  A class to represent a transaction between zimcoin users.\n",
      " |  \n",
      " |  ...\n",
      " |  \n",
      " |  Attributes\n",
      " |  ----------\n",
      " |  sender_hash : bytes\n",
      " |      the  address of a zimcoin user that is willing to send money\n",
      " |  recipient_hash : bytes\n",
      " |      the  address of a zimcoin user to recieve money\n",
      " |  sender_public_key : bytes\n",
      " |      the public key of a zimcoin user that is willing to send money\n",
      " |  amount : int\n",
      " |      the amount of zimcoins to be transfered including fee\n",
      " |  fee : int\n",
      " |      the amount of zimcoins to be paid from the sended as a fee for a transaction\n",
      " |  nonce : int\n",
      " |      the number of the last sender's transaction on the blockchain\n",
      " |  txid : bytes\n",
      " |      the transaction id\n",
      " |  \n",
      " |  \n",
      " |  \n",
      " |  Methods\n",
      " |  -------\n",
      " |  verify(sender_balance, sender_previous_nonce):\n",
      " |      Verifies transaction.\n",
      " |  \n",
      " |  Methods defined here:\n",
      " |  \n",
      " |  __init__(self, sender_hash, recipient_hash, sender_public_key, amount, fee, nonce, sender_signature, txid)\n",
      " |      Constructs all the necessary attributes for the transaction object.\n",
      " |      \n",
      " |      Parameters\n",
      " |      ----------\n",
      " |      sender_hash : bytes\n",
      " |          the  address of a zimcoin user that is willing to send money\n",
      " |      recipient_hash : bytes\n",
      " |          the  address of a zimcoin user to recieve money\n",
      " |      sender_public_key : bytes\n",
      " |          the public key of a zimcoin user that is willing to send money\n",
      " |      amount : int\n",
      " |          the amount of zimcoins to be transfered including fee\n",
      " |      fee : int\n",
      " |          the amount of zimcoins to be paid from the sended as a fee for a transaction\n",
      " |      nonce : int\n",
      " |          the number of the last sender's transaction on the blockchain\n",
      " |      txid : bytes\n",
      " |          the transaction id\n",
      " |  \n",
      " |  __str__(self)\n",
      " |      Return str(self).\n",
      " |  \n",
      " |  verify(self, sender_balance, sender_previous_nonce)\n",
      " |      Verifies a transaction\n",
      " |      \n",
      " |      Parameters\n",
      " |      ----------\n",
      " |      sender_balance : int\n",
      " |          the sender's balance\n",
      " |      sender_previous_nonce: int\n",
      " |          the number of sender's previous transaction on the blockchain\n",
      " |          \n",
      " |      \n",
      " |      Returns\n",
      " |      -------\n",
      " |      txid, signature : dict\n",
      " |          the id and the sender's signature for a verified transaction object\n",
      " |  \n",
      " |  ----------------------------------------------------------------------\n",
      " |  Data descriptors defined here:\n",
      " |  \n",
      " |  __dict__\n",
      " |      dictionary for instance variables (if defined)\n",
      " |  \n",
      " |  __weakref__\n",
      " |      list of weak references to the object (if defined)\n",
      "\n"
     ]
    }
   ],
   "source": [
    "help(Transaction)"
   ]
  },
  {
   "cell_type": "code",
   "execution_count": 3,
   "metadata": {},
   "outputs": [
    {
     "name": "stdout",
     "output_type": "stream",
     "text": [
      "\n",
      "        Verifies a transaction\n",
      "\n",
      "        Parameters\n",
      "        ----------\n",
      "        sender_balance : int\n",
      "            the sender's balance\n",
      "        sender_previous_nonce: int\n",
      "            the number of sender's previous transaction on the blockchain\n",
      "            \n",
      "\n",
      "        Returns\n",
      "        -------\n",
      "        txid, signature : dict\n",
      "            the id and the sender's signature for a verified transaction object\n",
      "        \n"
     ]
    }
   ],
   "source": [
    "print(Transaction.verify.__doc__)"
   ]
  },
  {
   "cell_type": "code",
   "execution_count": 4,
   "metadata": {},
   "outputs": [
    {
     "name": "stdout",
     "output_type": "stream",
     "text": [
      "Help on function create_signed_transaction in module __main__:\n",
      "\n",
      "create_signed_transaction(sender_private_key, recipient_hash, amount, fee, nonce)\n",
      "    Creates a signed transaction object\n",
      "    \n",
      "    Parameters\n",
      "    ----------\n",
      "    sender_private_key : Hashlib object\n",
      "        the senders private key\n",
      "    recipient_hash : bytes\n",
      "        the  address of a zimcoin user to recieve money\n",
      "    amount : int\n",
      "        the amount of zimcoins to be transfered including fee\n",
      "    fee : int\n",
      "        the amount of zimcoins to be paid from the sended as a fee for a transaction\n",
      "    nonce : int\n",
      "        the number of the last sender's transaction on the blockchain\n",
      "    \n",
      "        \n",
      "    \n",
      "    Returns\n",
      "    -------\n",
      "    tr : transaction object\n",
      "        a signed transaction object (not yet verified)\n",
      "\n"
     ]
    }
   ],
   "source": [
    "help(create_signed_transaction)"
   ]
  },
  {
   "cell_type": "markdown",
   "metadata": {},
   "source": [
    "### The ```UserState``` class \n",
    "<a id=\"userstate\"></a>"
   ]
  },
  {
   "cell_type": "markdown",
   "metadata": {},
   "source": [
    "In this section we are developing the ```UserState``` class. This class will be used to track the user's details and their interaction with the blockchain.\n",
    "\n",
    "As we can see, its constructor holds account for the instance's balance and nonce which corresponds to the number of the most recent transaction a user performed on the blockchain."
   ]
  },
  {
   "cell_type": "code",
   "execution_count": 5,
   "metadata": {},
   "outputs": [],
   "source": [
    "class UserState:\n",
    "    \"\"\"\n",
    "    A class to keep track of zimcoin users' details on the blockchain.\n",
    "\n",
    "    ...\n",
    "\n",
    "    Attributes\n",
    "    ----------\n",
    "    balance : int\n",
    "        the user's balance\n",
    "    nonce : int\n",
    "        the number of the user's latest transaction\n",
    "\n",
    "    Methods\n",
    "    -------\n",
    "    None\n",
    "    \"\"\"\n",
    "    def __init__(self, balance, nonce):\n",
    "        \"\"\"\n",
    "        Constructs all the necessary attributes for the UserState object.\n",
    "\n",
    "        Parameters\n",
    "        ----------\n",
    "        balance : int\n",
    "            the user's balance\n",
    "        nonce : int\n",
    "            the number of the user's latest transaction\n",
    "        \"\"\"\n",
    "            \n",
    "        self.balance = balance\n",
    "        self.nonce = nonce"
   ]
  },
  {
   "cell_type": "markdown",
   "metadata": {},
   "source": [
    "### Generating a pool of users and a global record\n",
    "<a id=\"pk_users\"></a>"
   ]
  },
  {
   "cell_type": "code",
   "execution_count": 6,
   "metadata": {},
   "outputs": [],
   "source": [
    "UserList = []\n",
    "glob_record = {}\n",
    "\n",
    "# Generating a random intitial user's state\n",
    "for i in range(10):\n",
    "    i = user_pk()\n",
    "    UserList.append(i)\n",
    "    glob_record[address(i.private_key).hex()] = UserState(600,0)"
   ]
  },
  {
   "cell_type": "markdown",
   "metadata": {},
   "source": [
    "The users list consists of ```user_pk``` objects that essentially hold their private keys:"
   ]
  },
  {
   "cell_type": "code",
   "execution_count": 7,
   "metadata": {},
   "outputs": [
    {
     "data": {
      "text/plain": [
       "[<__main__.user_pk at 0x7fc340d90f50>,\n",
       " <__main__.user_pk at 0x7fc32091d310>,\n",
       " <__main__.user_pk at 0x7fc320cde2d0>,\n",
       " <__main__.user_pk at 0x7fc320464e50>,\n",
       " <__main__.user_pk at 0x7fc320464f50>,\n",
       " <__main__.user_pk at 0x7fc320464f90>,\n",
       " <__main__.user_pk at 0x7fc32047d1d0>,\n",
       " <__main__.user_pk at 0x7fc32047d2d0>,\n",
       " <__main__.user_pk at 0x7fc32047d3d0>,\n",
       " <__main__.user_pk at 0x7fc32047d490>]"
      ]
     },
     "execution_count": 7,
     "metadata": {},
     "output_type": "execute_result"
    }
   ],
   "source": [
    "UserList"
   ]
  },
  {
   "cell_type": "markdown",
   "metadata": {},
   "source": [
    "The global record maps each user to a ```UserState``` object that holds and manages information about their status:"
   ]
  },
  {
   "cell_type": "code",
   "execution_count": 8,
   "metadata": {},
   "outputs": [
    {
     "data": {
      "text/plain": [
       "{'f05ea63966f8e025855b9ccdc12cd149e842d371': <__main__.UserState at 0x7fc340d90fd0>,\n",
       " '64cf86e7dab850fea8b54533cb83eb22f1b30b65': <__main__.UserState at 0x7fc340d93110>,\n",
       " '937733028c3557b1dceb35ff07c776d09ccdb2c6': <__main__.UserState at 0x7fc3502d9a10>,\n",
       " '99450119dd27a536414bf41495334d37d88a9fde': <__main__.UserState at 0x7fc320464d90>,\n",
       " '03e7381528f20d766ba61dfaf2e855b828f52d1b': <__main__.UserState at 0x7fc320464f10>,\n",
       " 'd30da13581059a0a18078568984fed83033eeccf': <__main__.UserState at 0x7fc32047d0d0>,\n",
       " '01f45e9a36a2d02c2283effdf37be76e5daf1991': <__main__.UserState at 0x7fc32047d110>,\n",
       " '1739651215c4ac4fd74ab4d7c3bbaae34f99eece': <__main__.UserState at 0x7fc32047d210>,\n",
       " '63d6880352a752f1744c4db353345159b4d7d831': <__main__.UserState at 0x7fc320464e90>,\n",
       " '095bb1b4b46a723e5c085b87a9f3977c17e9978e': <__main__.UserState at 0x7fc32047d390>}"
      ]
     },
     "execution_count": 8,
     "metadata": {},
     "output_type": "execute_result"
    }
   ],
   "source": [
    "glob_record"
   ]
  },
  {
   "cell_type": "markdown",
   "metadata": {},
   "source": [
    "A data frame representation of the global record:"
   ]
  },
  {
   "cell_type": "code",
   "execution_count": 9,
   "metadata": {},
   "outputs": [
    {
     "data": {
      "text/html": [
       "<div>\n",
       "<style scoped>\n",
       "    .dataframe tbody tr th:only-of-type {\n",
       "        vertical-align: middle;\n",
       "    }\n",
       "\n",
       "    .dataframe tbody tr th {\n",
       "        vertical-align: top;\n",
       "    }\n",
       "\n",
       "    .dataframe thead th {\n",
       "        text-align: right;\n",
       "    }\n",
       "</style>\n",
       "<table border=\"1\" class=\"dataframe\">\n",
       "  <thead>\n",
       "    <tr style=\"text-align: right;\">\n",
       "      <th></th>\n",
       "      <th>address</th>\n",
       "      <th>balance</th>\n",
       "      <th>nonce</th>\n",
       "    </tr>\n",
       "  </thead>\n",
       "  <tbody>\n",
       "    <tr>\n",
       "      <th>0</th>\n",
       "      <td>f05ea63966f8e025855b9ccdc12cd149e842d371</td>\n",
       "      <td>600</td>\n",
       "      <td>0</td>\n",
       "    </tr>\n",
       "    <tr>\n",
       "      <th>1</th>\n",
       "      <td>64cf86e7dab850fea8b54533cb83eb22f1b30b65</td>\n",
       "      <td>600</td>\n",
       "      <td>0</td>\n",
       "    </tr>\n",
       "    <tr>\n",
       "      <th>2</th>\n",
       "      <td>937733028c3557b1dceb35ff07c776d09ccdb2c6</td>\n",
       "      <td>600</td>\n",
       "      <td>0</td>\n",
       "    </tr>\n",
       "    <tr>\n",
       "      <th>3</th>\n",
       "      <td>99450119dd27a536414bf41495334d37d88a9fde</td>\n",
       "      <td>600</td>\n",
       "      <td>0</td>\n",
       "    </tr>\n",
       "    <tr>\n",
       "      <th>4</th>\n",
       "      <td>03e7381528f20d766ba61dfaf2e855b828f52d1b</td>\n",
       "      <td>600</td>\n",
       "      <td>0</td>\n",
       "    </tr>\n",
       "    <tr>\n",
       "      <th>5</th>\n",
       "      <td>d30da13581059a0a18078568984fed83033eeccf</td>\n",
       "      <td>600</td>\n",
       "      <td>0</td>\n",
       "    </tr>\n",
       "    <tr>\n",
       "      <th>6</th>\n",
       "      <td>01f45e9a36a2d02c2283effdf37be76e5daf1991</td>\n",
       "      <td>600</td>\n",
       "      <td>0</td>\n",
       "    </tr>\n",
       "    <tr>\n",
       "      <th>7</th>\n",
       "      <td>1739651215c4ac4fd74ab4d7c3bbaae34f99eece</td>\n",
       "      <td>600</td>\n",
       "      <td>0</td>\n",
       "    </tr>\n",
       "    <tr>\n",
       "      <th>8</th>\n",
       "      <td>63d6880352a752f1744c4db353345159b4d7d831</td>\n",
       "      <td>600</td>\n",
       "      <td>0</td>\n",
       "    </tr>\n",
       "    <tr>\n",
       "      <th>9</th>\n",
       "      <td>095bb1b4b46a723e5c085b87a9f3977c17e9978e</td>\n",
       "      <td>600</td>\n",
       "      <td>0</td>\n",
       "    </tr>\n",
       "  </tbody>\n",
       "</table>\n",
       "</div>"
      ],
      "text/plain": [
       "                                    address  balance  nonce\n",
       "0  f05ea63966f8e025855b9ccdc12cd149e842d371      600      0\n",
       "1  64cf86e7dab850fea8b54533cb83eb22f1b30b65      600      0\n",
       "2  937733028c3557b1dceb35ff07c776d09ccdb2c6      600      0\n",
       "3  99450119dd27a536414bf41495334d37d88a9fde      600      0\n",
       "4  03e7381528f20d766ba61dfaf2e855b828f52d1b      600      0\n",
       "5  d30da13581059a0a18078568984fed83033eeccf      600      0\n",
       "6  01f45e9a36a2d02c2283effdf37be76e5daf1991      600      0\n",
       "7  1739651215c4ac4fd74ab4d7c3bbaae34f99eece      600      0\n",
       "8  63d6880352a752f1744c4db353345159b4d7d831      600      0\n",
       "9  095bb1b4b46a723e5c085b87a9f3977c17e9978e      600      0"
      ]
     },
     "execution_count": 9,
     "metadata": {},
     "output_type": "execute_result"
    }
   ],
   "source": [
    "# The global record in table view    \n",
    "pd.DataFrame({\"address\":glob_record.keys(),\n",
    "              \"balance\":[i.balance for i in glob_record.values()],\n",
    "              \"nonce\": [i.nonce for i in glob_record.values()]})"
   ]
  },
  {
   "cell_type": "markdown",
   "metadata": {},
   "source": [
    "### Generating a list of transactions for the block\n",
    "<a id=\"trns_list\"></a>"
   ]
  },
  {
   "cell_type": "markdown",
   "metadata": {},
   "source": [
    "In this section we are using the global record to generate a list of transactions to be later digested by the block. As we are generating 20 transactions, it is inevitable that some of the users are submitting more than one transaction to the block."
   ]
  },
  {
   "cell_type": "code",
   "execution_count": 10,
   "metadata": {},
   "outputs": [],
   "source": [
    "def random_transactions(states, user_list):\n",
    "    \"\"\"\n",
    "    Returns a list of random transactions, given the\n",
    "    status of the users in a list.\n",
    "    \n",
    "    \"\"\"\n",
    "    transList = []\n",
    "    for i in range(20):\n",
    "        randlist = random.sample(range(1, 10), 2)\n",
    "        amount = random.randint(5, 11)\n",
    "        fee = random.randint(1, amount-1)\n",
    "\n",
    "        # checking if sender's balance is sufficient in the glob_record\n",
    "        # to create some random valid transactions\n",
    "        if states[address(user_list[randlist[0]].private_key).hex()].balance >= amount+fee:\n",
    "            trns = create_signed_transaction(user_list[randlist[0]].private_key,\n",
    "                                            address(user_list[randlist[1]].private_key),\n",
    "                                            amount,\n",
    "                                            fee,\n",
    "                                            states[address(user_list[randlist[0]].private_key).hex()].nonce)\n",
    "            transList.append(trns)\n",
    "    return transList"
   ]
  },
  {
   "cell_type": "code",
   "execution_count": 11,
   "metadata": {},
   "outputs": [],
   "source": [
    "transList = random_transactions(glob_record, UserList)"
   ]
  },
  {
   "cell_type": "markdown",
   "metadata": {},
   "source": [
    "The ```transList``` contains all the ```transaction``` objects gererated."
   ]
  },
  {
   "cell_type": "code",
   "execution_count": 12,
   "metadata": {},
   "outputs": [
    {
     "data": {
      "text/plain": [
       "[<__main__.Transaction at 0x7fc350d97f90>,\n",
       " <__main__.Transaction at 0x7fc32047db90>,\n",
       " <__main__.Transaction at 0x7fc32090fa90>,\n",
       " <__main__.Transaction at 0x7fc350da4750>,\n",
       " <__main__.Transaction at 0x7fc350da4910>,\n",
       " <__main__.Transaction at 0x7fc350da4a10>,\n",
       " <__main__.Transaction at 0x7fc350da4ad0>,\n",
       " <__main__.Transaction at 0x7fc350da4b90>,\n",
       " <__main__.Transaction at 0x7fc350da4c50>,\n",
       " <__main__.Transaction at 0x7fc350da4cd0>,\n",
       " <__main__.Transaction at 0x7fc350da4d90>,\n",
       " <__main__.Transaction at 0x7fc350da4e50>,\n",
       " <__main__.Transaction at 0x7fc350da4f10>,\n",
       " <__main__.Transaction at 0x7fc350da4c90>,\n",
       " <__main__.Transaction at 0x7fc350da4f50>,\n",
       " <__main__.Transaction at 0x7fc350da4fd0>,\n",
       " <__main__.Transaction at 0x7fc350dad250>,\n",
       " <__main__.Transaction at 0x7fc350dad310>,\n",
       " <__main__.Transaction at 0x7fc350dad3d0>,\n",
       " <__main__.Transaction at 0x7fc350dad490>]"
      ]
     },
     "execution_count": 12,
     "metadata": {},
     "output_type": "execute_result"
    }
   ],
   "source": [
    "transList"
   ]
  },
  {
   "cell_type": "markdown",
   "metadata": {},
   "source": [
    "For example, the information for the first transaction in the list can be accessed:"
   ]
  },
  {
   "cell_type": "code",
   "execution_count": 13,
   "metadata": {},
   "outputs": [
    {
     "name": "stdout",
     "output_type": "stream",
     "text": [
      "Sender's address of the first transaction in the list : 1739651215c4ac4fd74ab4d7c3bbaae34f99eece\n"
     ]
    }
   ],
   "source": [
    "print(\"Sender's address of the first transaction in the list :\", transList[0].sender_hash.hex())"
   ]
  },
  {
   "cell_type": "markdown",
   "metadata": {},
   "source": [
    "### The ```Block``` class \n",
    "<a id=\"block\"></a>"
   ]
  },
  {
   "cell_type": "markdown",
   "metadata": {},
   "source": [
    "The ```Block``` class holds the block's information. Once it is mined, the information will be updated and passed on to the ```verify_and_get_changes``` method to be verified and update the global record of users.\n",
    "\n",
    "\n",
    "The block's constructor takes the following arguments:\n",
    "<a id=\"blockconst\"></a>\n",
    "- ```previous```: The id of the previous block on the blockchain.\n",
    "\n",
    "- ```height```: The number of the blocks previous integrated on the blockchain.\n",
    "\n",
    "- ```miner```: The address of the miner of the block.\n",
    "\n",
    "- ```transactions```: A list of transactions to be processed by the block.\n",
    "\n",
    "- ```timestamp```: The unix time of the creation of the block.\n",
    "\n",
    "- ```difficulty```: The difficulty of the proof of work. An expected amount of efforts from the miner to come up with a valid nonce that meet the proof of work contitions for adding the block to the blockchain.\n",
    "\n",
    "- ```block_id```: A valid id for the block generated with a nonce that meets the proof of work criteria. Added after the mining of the block.\n",
    "\n",
    "- ```nonce```: An integer that generates a valid id that meets the proof of work criteria.\n"
   ]
  },
  {
   "cell_type": "markdown",
   "metadata": {},
   "source": [
    "### The ```verify_and_get_changes``` method\n",
    "<a id=\"blockmeth\"></a>"
   ]
  },
  {
   "cell_type": "markdown",
   "metadata": {},
   "source": [
    "This method is responsible for validating a mined block in terms the validity of nonce that generates an id, which meets the proof of work criteria. Additionally, validates the transactions against the global state of the users and finally updates it with their new statuses. This method ensures that if more that one transactions are established from one user in this block will verify it against the latest information on the global record after their previous transaction in the block list.\n",
    "\n",
    "The method takes the following parameters:\n",
    "\n",
    "- ```previous_user_states```: A dictionary that contains all the infromation about the user's status.\n",
    "\n",
    "- ```difficulty```: The expected difficulty of the mined block.\n"
   ]
  },
  {
   "cell_type": "code",
   "execution_count": 14,
   "metadata": {},
   "outputs": [],
   "source": [
    "class Block:\n",
    "    \"\"\"\n",
    "    A class to represent a block of transactions.\n",
    "\n",
    "    ...\n",
    "\n",
    "    Attributes\n",
    "    ----------\n",
    "    previous : bytes\n",
    "        the id of the previous block on the blockchain\n",
    "    height : int\n",
    "        The number of the blocks previous integrated on the blockchain.\n",
    "    miner : bytes\n",
    "        the address of the miner\n",
    "    transactions : list\n",
    "        a list of transactions to be processed by the block\n",
    "    timestamp : Timestamp object\n",
    "        the unix time of the generation of the block\n",
    "    difficulty : int\n",
    "        the difficulty of the proof of work\n",
    "    nonce : int\n",
    "        a value that generates a valid id for a mined block\n",
    "    block_id : bytes\n",
    "        a valid id that meets the difficulty criteria for the block\n",
    "\n",
    "\n",
    "    Methods\n",
    "    -------\n",
    "    verify_and_get_changes(previous_user_states, difficulty):\n",
    "        Verifies transaction.\n",
    "    \"\"\"\n",
    "\n",
    "    def __init__(self, previous, height, miner_hash, transactions,timestamp, difficulty, block_id=None, nonce=None):\n",
    "        \"\"\"\n",
    "        Constructs all the necessary attributes for the block object.\n",
    "\n",
    "        Parameters\n",
    "        ----------\n",
    "        previous : bytes\n",
    "            the id of the previous block on the blockchain\n",
    "        height : int\n",
    "            The number of the blocks previous integrated on the blockchain.\n",
    "        miner : bytes\n",
    "            the address of the miner\n",
    "        transactions : list\n",
    "            a list of transactions to be processed by the block\n",
    "        timestamp : Timestamp object\n",
    "            the unix time of the generation of the block\n",
    "        difficulty : int\n",
    "            the difficulty of the proof of work\n",
    "        nonce : int\n",
    "            a value that generates a valid id for a mined block\n",
    "        block_id : bytes\n",
    "            a valid id that meets the difficulty criteria for the block\n",
    "\n",
    "        \"\"\"\n",
    "\n",
    "        self.previous_block_id = previous #binascii.unhexlify(previous)\n",
    "        self.height = height\n",
    "        self.miner = miner_hash\n",
    "        self.transactions = transactions      \n",
    "        self.timestamp = timestamp #int(time.time())\n",
    "        self.difficulty = difficulty\n",
    "        if self.difficulty not in range(1, 2**128):\n",
    "            raise Exception(\"\\n\\nNot valid difficulty\\n\\n\")\n",
    "        # nonce and block_id will be populated after mining\n",
    "        if nonce == None:\n",
    "            self.nonce = \"\"\n",
    "        else:\n",
    "            self.nonce = nonce\n",
    " \n",
    "        if block_id == None:\n",
    "            self.block_id = \"\"\n",
    "        else:\n",
    "            self.block_id = block_id\n",
    "            \n",
    "\n",
    "        \n",
    "        \n",
    "    def verify_and_get_changes(self, difficulty, previous_user_states):\n",
    "        \"\"\"\n",
    "        Verifies a block and returns an updated global record\n",
    "\n",
    "        Parameters\n",
    "        ----------\n",
    "        previous_user_states : dict\n",
    "            a dictionary that contains all the infromation about the users' status\n",
    "        difficulty: int\n",
    "            the expected difficulty of the mined block\n",
    "            \n",
    "\n",
    "        Returns\n",
    "        -------\n",
    "        global_record : dict\n",
    "            the updated global record which contains the users' status\n",
    "        \"\"\"\n",
    "        \n",
    "        # Verifying the type of the global record\n",
    "        self.global_record = previous_user_states\n",
    "\n",
    "            \n",
    "        # Verifying that the difficulty matches to \n",
    "        # the proof of work required to mine the block\n",
    "        if difficulty != self.difficulty:\n",
    "            raise Exception(\"\\n\\nBLOCK VERIFICATION FAILED: Invalid difficulty\\n\\n\")\n",
    "        \n",
    "        # Verifying that the proof of work criteria are met\n",
    "        if int(self.block_id, base=16) > 2**256 // difficulty:\n",
    "            raise Exception(\"\\n\\nProof of work criteria not met\\n\\n\")\n",
    "        \n",
    "        # Verifying the block id provided by the miner\n",
    "        digest = hashes.Hash(hashes.SHA256())                                        \n",
    "        digest.update(b''.join([self.previous_block_id, \n",
    "                                self.miner, \n",
    "                                b''.join([tr.txid for tr in self.transactions]), \n",
    "                                self.timestamp.to_bytes(8, byteorder='little'), \n",
    "                                self.difficulty.to_bytes(16, byteorder='little'),\n",
    "                                self.nonce.to_bytes(8, byteorder='little')])) \n",
    "        block_id = digest.finalize().hex()\n",
    "\n",
    "        if  block_id != self.block_id:\n",
    "            raise Exception(\"\\n\\nBLOCK VERIFICATION FAILED: Invalid block id\\n\\n\")\n",
    "            \n",
    "        \n",
    "        # Verifying the type and the number of the transactions collection\n",
    "        if not isinstance(self.transactions, list):\n",
    "            raise Exception(\"\\n\\nTransactions parameter should be a list of transactions\\n\\n\")\n",
    "        if len(self.transactions) not in range(1, 26):\n",
    "            raise Exception(\"\\n\\nInvalid number of transactions\\n\\n\")\n",
    "            \n",
    "        \n",
    "        # Checks for errors in the lenght of receipient's address\n",
    "        if len(self.miner) != 20:\n",
    "            raise Exception(\"\\n\\nVERIFICATION FAILED: The receipient's address is not valid\\n\\n\")\n",
    "        \n",
    "        # Generating a list to keep track of multiple transaction of users in the same block\n",
    "        trackMultTrans = []\n",
    "        \n",
    "        for tr in self.transactions:\n",
    "            \n",
    "            # Keeping track of how many transactions a user have established in the block\n",
    "            CountTrnsSameUser = trackMultTrans.count(tr.sender_hash)\n",
    "\n",
    "            if tr.sender_hash in trackMultTrans:\n",
    "                print (tr)\n",
    "                # Using the glob_record and to verify transactions from the same sender.\n",
    "                tr.verify(self.global_record[tr.sender_hash.hex()].balance, self.global_record[tr.sender_hash.hex()].nonce-1-CountTrnsSameUser)\n",
    "                \n",
    "                # Updating users' status on global record after verified transactions\n",
    "                self.global_record[tr.sender_hash.hex()] = UserState(self.global_record[tr.sender_hash.hex()].balance - tr.amount , \n",
    "                                                                  self.global_record[tr.sender_hash.hex()].nonce + 1)\n",
    "                self.global_record[tr.recipient_hash.hex()] = UserState(self.global_record[tr.recipient_hash.hex()].balance + tr.amount - tr.fee, \n",
    "                                                                   self.global_record[tr.recipient_hash.hex()].nonce)\n",
    "                self.global_record[self.miner.hex()] = UserState(self.global_record[self.miner.hex()].balance + tr.fee, \n",
    "                                                                  self.global_record[self.miner.hex()].nonce)\n",
    "                trackMultTrans.append(tr.sender_hash)\n",
    "                print (tr,2*\"\\n===========================================================================\")\n",
    "           \n",
    "            # Verifying unique transactions\n",
    "            else:\n",
    "                print (tr)\n",
    "                if tr.verify(self.global_record[tr.sender_hash.hex()].balance, self.global_record[tr.sender_hash.hex()].nonce-1):\n",
    "                    \n",
    "                    # Updating users' status on global record after verified transactions\n",
    "                    self.global_record[tr.sender_hash.hex()] = UserState(self.global_record[tr.sender_hash.hex()].balance - tr.amount, \n",
    "                                                                  tr.nonce+1)\n",
    "                    self.global_record[tr.recipient_hash.hex()] = UserState(self.global_record[tr.recipient_hash.hex()].balance + tr.amount - tr.fee, \n",
    "                                                                      self.global_record[tr.recipient_hash.hex()].nonce)\n",
    "                    self.global_record[self.miner.hex()] = UserState(self.global_record[self.miner.hex()].balance + tr.fee, \n",
    "                                                                      self.global_record[self.miner.hex()].nonce)\n",
    "                    trackMultTrans.append(tr.sender_hash)\n",
    "                    print (tr, 2*\"\\n===========================================================================\")\n",
    "        \n",
    "        # Update miners record with the reward for mining the block\n",
    "        self.global_record[self.miner.hex()] = UserState(self.global_record[self.miner.hex()].balance + 10000, \n",
    "                                                                      self.global_record[self.miner.hex()].nonce)\n",
    "        # removing the list not to occupy space in memory\n",
    "        del trackMultTrans\n",
    "        return self.global_record"
   ]
  },
  {
   "cell_type": "markdown",
   "metadata": {},
   "source": [
    "### Mining the block\n",
    "<a id=\"mine\"></a>"
   ]
  },
  {
   "cell_type": "markdown",
   "metadata": {},
   "source": [
    "In this part we are developing the function to be used for mining the block. We seperately develop the ```mining_hash``` function to be passed by the ```mine_block``` to the *workers* (cpu cores) as a task to increase mining speed."
   ]
  },
  {
   "cell_type": "markdown",
   "metadata": {},
   "source": [
    "### The ```mining_hash``` function\n",
    "<a id=\"mn_func\"></a>"
   ]
  },
  {
   "cell_type": "markdown",
   "metadata": {},
   "source": [
    "The ```mining_hash``` takes the following arguments via the ```block``` object:\n",
    "\n",
    "- ```block.previous_block_id```: The id of the previous block on the blockchain.\n",
    "\n",
    "- ```block.height```: The number of the blocks previous integrated on the blockchain.\n",
    "\n",
    "- ```block.miner```: The address of the miner.\n",
    "\n",
    "- ```block.transactions```: A list of transactions to be processed by the block.\n",
    "\n",
    "- ```block.timestamp```: The unix time of the creation of the block.\n",
    "\n",
    "- ```block.difficulty```: The difficulty of the proof of work.\n",
    "\n",
    "- ```block.nonce```: A value that generates a valid id for a mined block.\n",
    "\n",
    "- ```args```: An iterator to be later passed on for multiprocessing to the increase hashing speed.\n",
    "\n",
    "- ```target```: The result of the division of 2^256 by the difficulty. The block id should be smaller that the target to meet the proof of work criteria."
   ]
  },
  {
   "cell_type": "markdown",
   "metadata": {},
   "source": [
    "### The ```mine_block``` function\n",
    "<a id=\"bl_func\"></a>"
   ]
  },
  {
   "cell_type": "markdown",
   "metadata": {},
   "source": [
    "This function takes as an argument a block object that carries all the needed attributes to mine a block. Then it initates a python ```imap``` session and assigns to the computer's cpu cores (workers) an amount of 10000 hashes per iteration. The cores then are working in parrallel and once a solution to the mining puzzle is found return a valid block id and nonce to be assigned to the block. The optimal number of hashes per core per itteration (10000) was decided after experimentation."
   ]
  },
  {
   "cell_type": "markdown",
   "metadata": {},
   "source": [
    "### Multiprocessing\n",
    "<a id=\"mltprc\"></a>"
   ]
  },
  {
   "cell_type": "markdown",
   "metadata": {},
   "source": [
    "As mentioned, the mine block uses multiprocessing for solving the mining puzzle. After tests performed during the implementation was found that applying the ```copy()``` function to save a Hash object without the need to reprocess the data after trying a different noce with each iteration improving the performance singificantly. However, when we applied multiprocessing the performance increases even more significantly (the hashing speed increased by x6) compared to the absolute naive implementation. \n",
    "\n",
    "Unfortunately, we were not able to use ```copy()``` in combination to the multiprocessing. That would require to pass a Hash object to the ```mining_hash``` function which is not possible. The reason being that python ```multiprocessing``` classes tend to serialise the inputs (turn it into pickle objects) which in this case cannot be done for a Hash object."
   ]
  },
  {
   "cell_type": "markdown",
   "metadata": {},
   "source": [
    "In the following graphs we can clearly see how the computer makes use of all it's resourses to deliver the task (right) when this is not the case for a naive implementation (left)."
   ]
  },
  {
   "cell_type": "markdown",
   "metadata": {},
   "source": [
    "![Comparison](img/comparison.png)"
   ]
  },
  {
   "cell_type": "code",
   "execution_count": 15,
   "metadata": {},
   "outputs": [],
   "source": [
    "\n",
    "\n",
    "def mining_hash(args, block, target):\n",
    "    \"\"\"\n",
    "    Mining the block according to the proof of work criteria.\n",
    "    The parameters into this function are passed via the Block object.\n",
    "\n",
    "    Parameters\n",
    "    ----------\n",
    "    args : itterator\n",
    "        an iterable passed by multiprocessing to increase hashing speed\n",
    "    block.previous_block_id : bytes\n",
    "        the id of the previous block on the blockchain\n",
    "    block.height : int\n",
    "        the number of the blocks previous integrated on the blockchain.\n",
    "    block.miner : bytes\n",
    "        the address of the miner\n",
    "    block.transactions : list\n",
    "        a list of transactions to be processed by the block\n",
    "    block.timestamp : Timestamp object\n",
    "        the unix time of the generation of the block\n",
    "    block.difficulty : int\n",
    "        the difficulty of the proof of work\n",
    "    block.nonce : int\n",
    "        a value that generates a valid id for a mined block\n",
    "    target : int\n",
    "        the result of the division of 2^256 by the difficulty\n",
    "        the block id should be smaller that the target to meet\n",
    "        the proof of work criteria\n",
    "        \n",
    "    Returns\n",
    "    -------\n",
    "    c : str\n",
    "        a hexadecimal representation of a block_id that fulfils the proof of work criteria\n",
    "    n : \n",
    "        a nonce that generates a valid block id\n",
    "    \"\"\"\n",
    "    \n",
    "    # We select a random nonce within the acceptable range\n",
    "    n = random.randint(0, 2**64)\n",
    "    digest = hashes.Hash(hashes.SHA256())\n",
    "    digest.update(b''.join([block.previous_block_id, \n",
    "                            block.miner, \n",
    "                            b''.join([tr.txid for tr in block.transactions]), \n",
    "                            block.timestamp.to_bytes(8, byteorder='little'), \n",
    "                            block.difficulty.to_bytes(16, byteorder='little'),\n",
    "                            n.to_bytes(8, byteorder='little')]))\n",
    "\n",
    "    c = digest.finalize().hex()\n",
    "    if int(c , base=16) <= target:\n",
    "        return c, n"
   ]
  },
  {
   "cell_type": "code",
   "execution_count": 16,
   "metadata": {},
   "outputs": [],
   "source": [
    "def mine_block(previous, height, miner_hash, transactions, timestamp, difficulty):\n",
    "    \"\"\"\n",
    "    Mining a block with multiprocessing. \n",
    "     \n",
    "\n",
    "    Parameters\n",
    "    ----------\n",
    "    previous_block_id : bytes\n",
    "        the id of the previous block on the blockchain\n",
    "    height : int\n",
    "        the number of the blocks previous integrated on the blockchain.\n",
    "    miner : bytes\n",
    "        the address of the miner\n",
    "    transactions : list\n",
    "        a list of transactions to be processed by the block\n",
    "    timestamp : Timestamp object\n",
    "        the unix time of the generation of the block\n",
    "    difficulty : int\n",
    "        the difficulty of the proof of work\n",
    "    \n",
    "        \n",
    "    Returns\n",
    "    -------\n",
    "    block: Block object\n",
    "        updates the block's id and nonce and prepares it for verification\n",
    "    \"\"\"\n",
    "    \n",
    "    block = Block(previous, height, miner_hash, transactions,timestamp, difficulty)\n",
    "    \n",
    "    \n",
    "    \n",
    "    # Defining the target\n",
    "    target = 2**256 // block.difficulty\n",
    "    # Using imap for multiprocessing\n",
    "    # Each core will run the hashing function 10000 times in each itteration\n",
    "    # We define a large iterable range(24**24) so to be confident\n",
    "    # that the passes are sufficient to mine the block\n",
    "    with multiprocessing.Pool() as p:\n",
    "        for result in p.imap(partial(mining_hash, block = block, target = target), \n",
    "                             range(24**24), \n",
    "                             chunksize=10000): \n",
    "            if result:\n",
    "                print (result[0], result[1])\n",
    "                block.block_id = result[0]\n",
    "                block.nonce = result[1]\n",
    "                break\n",
    "                # When the block is mined we terminate the multiprocessing session\n",
    "                p.terminate()\n",
    "        return block"
   ]
  },
  {
   "cell_type": "markdown",
   "metadata": {},
   "source": [
    "### Creating a block\n",
    "<a id=\"block_gen\"></a>"
   ]
  },
  {
   "cell_type": "markdown",
   "metadata": {},
   "source": [
    "Now that we have developed the required classes, methods and functions we can hypothesise a scenario to test them. In our case, our previous block's id is a 64 lengh hexadecimal of zero (this would be the first block on the chain), and the heigh is 0. We randomly select a user from our previously created user pool to be the miner and we set the difficulty to 50000 (expected tries until the miner finds a solution to the puzzle). We finaly use the list of transactions we gererated before (```transList```)."
   ]
  },
  {
   "cell_type": "code",
   "execution_count": 17,
   "metadata": {},
   "outputs": [],
   "source": [
    "# Assigning the previous block_id\n",
    "previous_block_id = binascii.unhexlify(\"0\"*64)# \"0\"*64\n",
    "\n",
    "# Assigning the heigh\n",
    "height = 0\n",
    "\n",
    "# Randomly selecting a miner from the pool of uses\n",
    "miner_hash = address(UserList[random.randint(0, 9)].private_key)\n",
    "\n",
    "timestamp = int(time.time())\n",
    "\n",
    "# We set the expected number of tries for a solution to be found\n",
    "difficulty = 50000"
   ]
  },
  {
   "cell_type": "markdown",
   "metadata": {},
   "source": [
    "### Mining a block\n",
    "<a id=\"mine_block\"></a>"
   ]
  },
  {
   "cell_type": "markdown",
   "metadata": {},
   "source": [
    "We can now start mining a block:"
   ]
  },
  {
   "cell_type": "code",
   "execution_count": 18,
   "metadata": {},
   "outputs": [
    {
     "name": "stdout",
     "output_type": "stream",
     "text": [
      "000131f4c7e6ab0d5ab27b02479e8cedacd46b877e942eb2bc590e3570a4f8ae 7710239368773513950\n"
     ]
    }
   ],
   "source": [
    "block_1 = mine_block(previous_block_id, height, miner_hash, transList,timestamp, difficulty)"
   ]
  },
  {
   "cell_type": "markdown",
   "metadata": {},
   "source": [
    "As we can see the block was mined and its block id and nonce were updated:"
   ]
  },
  {
   "cell_type": "code",
   "execution_count": 19,
   "metadata": {},
   "outputs": [
    {
     "name": "stdout",
     "output_type": "stream",
     "text": [
      "Block id : 000131f4c7e6ab0d5ab27b02479e8cedacd46b877e942eb2bc590e3570a4f8ae \n",
      "\n",
      " Nonce : 7710239368773513950\n"
     ]
    }
   ],
   "source": [
    "print(\"Block id :\", block_1.block_id, \"\\n\\n\", \"Nonce :\", block_1.nonce)"
   ]
  },
  {
   "cell_type": "markdown",
   "metadata": {},
   "source": [
    "### Verifying a block and update global state\n",
    "<a id=\"ver_block\"></a>"
   ]
  },
  {
   "cell_type": "markdown",
   "metadata": {},
   "source": [
    "We finally can verify the block. If all the checks have succesfully passed, the method will update the global record with their new status. As blocks transaction are verified, some information from each one of them is printed to the log."
   ]
  },
  {
   "cell_type": "code",
   "execution_count": 20,
   "metadata": {},
   "outputs": [
    {
     "name": "stdout",
     "output_type": "stream",
     "text": [
      "\n",
      "\n",
      "---------PENDING TRANSACTION (not yet vefified)----------\n",
      "Sender's address: 1739651215c4ac4fd74ab4d7c3bbaae34f99eece\n",
      "Recipient's address: 095bb1b4b46a723e5c085b87a9f3977c17e9978e\n",
      "Amount to be tranfered: 7\n",
      "Fee to be charged for this transaction: 4\n",
      "\n",
      "**Please note that the sender will be charged with the fee for this transaction**\n",
      "\n",
      "\n",
      "SUCCESSFUL VERIFICATION\n",
      "\n",
      "\n",
      "---------VERIFIED TRANSACTION---------\n",
      "Transaction ID: 1a82dd4ebb43847b071a707f62e62da7aa2a9db1d6d7e250f835e00415aa2e56\n",
      "Sender's Signature: 304402201a48275ad96380a25b940bd77ad012717433896b3046b415aab78d31d384630102204ba8d6f149a993e187231ffa19d0290aff4d4916f4e5f34a670d08c6c90d59b3\n",
      "\n",
      " \n",
      "===========================================================================\n",
      "===========================================================================\n",
      "\n",
      "\n",
      "---------PENDING TRANSACTION (not yet vefified)----------\n",
      "Sender's address: d30da13581059a0a18078568984fed83033eeccf\n",
      "Recipient's address: 937733028c3557b1dceb35ff07c776d09ccdb2c6\n",
      "Amount to be tranfered: 5\n",
      "Fee to be charged for this transaction: 1\n",
      "\n",
      "**Please note that the sender will be charged with the fee for this transaction**\n",
      "\n",
      "\n",
      "SUCCESSFUL VERIFICATION\n",
      "\n",
      "\n",
      "---------VERIFIED TRANSACTION---------\n",
      "Transaction ID: 4bfaccc03285df3a01f37c2776bd35eefe86eaea5249254bec2a2c4077838571\n",
      "Sender's Signature: 304402201cd11b1b2cbf6ddcaaea8cfa2fceb4f5c2afc1f0d495d650b10ae5c4f767604c022025d332dcca8873b49d296aa7db5a266682ab5836234eb3293c36f32230175ceb\n",
      "\n",
      " \n",
      "===========================================================================\n",
      "===========================================================================\n",
      "\n",
      "\n",
      "---------PENDING TRANSACTION (not yet vefified)----------\n",
      "Sender's address: 01f45e9a36a2d02c2283effdf37be76e5daf1991\n",
      "Recipient's address: 03e7381528f20d766ba61dfaf2e855b828f52d1b\n",
      "Amount to be tranfered: 11\n",
      "Fee to be charged for this transaction: 3\n",
      "\n",
      "**Please note that the sender will be charged with the fee for this transaction**\n",
      "\n",
      "\n",
      "SUCCESSFUL VERIFICATION\n",
      "\n",
      "\n",
      "---------VERIFIED TRANSACTION---------\n",
      "Transaction ID: fb380e73e278964f60312ee60e09030cc493f8d98ea6282ed0762a6abe85f349\n",
      "Sender's Signature: 3046022100d7e12c3350983dfef1f4c174fec9fa8b2d5689e91597cb3792a8a2528a118cde022100dc827f5f2a92a065a263a44820690c88b55a8cb2c550570e3ab0d7516772add0\n",
      "\n",
      " \n",
      "===========================================================================\n",
      "===========================================================================\n",
      "\n",
      "\n",
      "---------PENDING TRANSACTION (not yet vefified)----------\n",
      "Sender's address: 03e7381528f20d766ba61dfaf2e855b828f52d1b\n",
      "Recipient's address: 1739651215c4ac4fd74ab4d7c3bbaae34f99eece\n",
      "Amount to be tranfered: 6\n",
      "Fee to be charged for this transaction: 4\n",
      "\n",
      "**Please note that the sender will be charged with the fee for this transaction**\n",
      "\n",
      "\n",
      "SUCCESSFUL VERIFICATION\n",
      "\n",
      "\n",
      "---------VERIFIED TRANSACTION---------\n",
      "Transaction ID: d6705132123bfe5fa00bba30121bde980b534d20139eea607dc0091107de4f06\n",
      "Sender's Signature: 3046022100fe1783c80006b1d689d91b47d09227e2205437404df72d45c75d39d1a05769cd022100a734a1fdee964409763b1a19cd5875edf0034274b808a7fc6340aa834a6b691d\n",
      "\n",
      " \n",
      "===========================================================================\n",
      "===========================================================================\n",
      "\n",
      "\n",
      "---------PENDING TRANSACTION (not yet vefified)----------\n",
      "Sender's address: 03e7381528f20d766ba61dfaf2e855b828f52d1b\n",
      "Recipient's address: 63d6880352a752f1744c4db353345159b4d7d831\n",
      "Amount to be tranfered: 6\n",
      "Fee to be charged for this transaction: 2\n",
      "\n",
      "**Please note that the sender will be charged with the fee for this transaction**\n",
      "\n",
      "\n",
      "SUCCESSFUL VERIFICATION\n",
      "\n",
      "\n",
      "---------VERIFIED TRANSACTION---------\n",
      "Transaction ID: a2e66a520b06409f9796b4b5e9ac3fd6fb20ba42d7a13fb59dcce587a9a9aa27\n",
      "Sender's Signature: 304502202584efebba7cfb9b6d4a0e9d5cd7c33a13f2b54acd72353f3d6a0e92da820517022100a97c9ee08763537e131ddbfd8fe5870debe62e9742e9b71523c455c2503eef74\n",
      "\n",
      " \n",
      "===========================================================================\n",
      "===========================================================================\n",
      "\n",
      "\n",
      "---------PENDING TRANSACTION (not yet vefified)----------\n",
      "Sender's address: 03e7381528f20d766ba61dfaf2e855b828f52d1b\n",
      "Recipient's address: d30da13581059a0a18078568984fed83033eeccf\n",
      "Amount to be tranfered: 5\n",
      "Fee to be charged for this transaction: 4\n",
      "\n",
      "**Please note that the sender will be charged with the fee for this transaction**\n",
      "\n",
      "\n",
      "SUCCESSFUL VERIFICATION\n",
      "\n",
      "\n",
      "---------VERIFIED TRANSACTION---------\n",
      "Transaction ID: 381d3f862301cd7de9c5b61760344ccac452ae2138e88062490d0d1b873a0f4e\n",
      "Sender's Signature: 3044022065c3148d8c38f0b8211eb37989faf75c7f7370eb33e63b34692b8157aa7824cc022068d4008828f96fde13b7b1aaf09bb36679df49f03ba1f3d5e4a9de1149ff1961\n",
      "\n",
      " \n",
      "===========================================================================\n",
      "===========================================================================\n",
      "\n",
      "\n",
      "---------PENDING TRANSACTION (not yet vefified)----------\n",
      "Sender's address: 64cf86e7dab850fea8b54533cb83eb22f1b30b65\n",
      "Recipient's address: 03e7381528f20d766ba61dfaf2e855b828f52d1b\n",
      "Amount to be tranfered: 5\n",
      "Fee to be charged for this transaction: 3\n",
      "\n",
      "**Please note that the sender will be charged with the fee for this transaction**\n",
      "\n",
      "\n",
      "SUCCESSFUL VERIFICATION\n",
      "\n",
      "\n",
      "---------VERIFIED TRANSACTION---------\n",
      "Transaction ID: 38cf1687a6104582be893e338a0c5a04311e404afd13fb8846021d84d0a38c9a\n",
      "Sender's Signature: 3045022100e5f54898bd19382e4a2ea6b39ad2e7658f61d9448ad441dbebdf463cc331089f02202d6e80ddda9ee608c07d8533d49bb64d48f53d985640c1c80f9e2102d122fd7a\n",
      "\n",
      " \n",
      "===========================================================================\n",
      "===========================================================================\n",
      "\n",
      "\n",
      "---------PENDING TRANSACTION (not yet vefified)----------\n",
      "Sender's address: 03e7381528f20d766ba61dfaf2e855b828f52d1b\n",
      "Recipient's address: 01f45e9a36a2d02c2283effdf37be76e5daf1991\n",
      "Amount to be tranfered: 9\n",
      "Fee to be charged for this transaction: 5\n",
      "\n",
      "**Please note that the sender will be charged with the fee for this transaction**\n",
      "\n",
      "\n",
      "SUCCESSFUL VERIFICATION\n",
      "\n",
      "\n",
      "---------VERIFIED TRANSACTION---------\n",
      "Transaction ID: 84257529f9f4fae1bfdb61899d6b0d7cde39f0bfb016bbbb4f04d3c0f455084a\n",
      "Sender's Signature: 3044022042d17e88b3884f7ed65a09c52db059646ccbc689bae67db4074116773ab67cfe02206e59c47f17778e339f859f4674f353c9c875c41ec44d503a80cda1ccef9ce64c\n",
      "\n",
      " \n",
      "===========================================================================\n",
      "===========================================================================\n",
      "\n",
      "\n",
      "---------PENDING TRANSACTION (not yet vefified)----------\n",
      "Sender's address: 03e7381528f20d766ba61dfaf2e855b828f52d1b\n",
      "Recipient's address: 64cf86e7dab850fea8b54533cb83eb22f1b30b65\n",
      "Amount to be tranfered: 11\n",
      "Fee to be charged for this transaction: 10\n",
      "\n",
      "**Please note that the sender will be charged with the fee for this transaction**\n",
      "\n",
      "\n",
      "SUCCESSFUL VERIFICATION\n",
      "\n",
      "\n",
      "---------VERIFIED TRANSACTION---------\n",
      "Transaction ID: 7fa0a63e061f0e13cfa6eddc0822c1ffe58ff854df3d602b1cd1dcf74f9c1010\n",
      "Sender's Signature: 304502206100386dd2d19dc9d332438f5255a205e602498210dcfce7994e4c652cc85d2d022100b480aacc947ee5591b1d91e76e8fbcf6db090687206304e196beb83e26714e03\n",
      "\n",
      " \n",
      "===========================================================================\n",
      "===========================================================================\n",
      "\n",
      "\n",
      "---------PENDING TRANSACTION (not yet vefified)----------\n",
      "Sender's address: 937733028c3557b1dceb35ff07c776d09ccdb2c6\n",
      "Recipient's address: 095bb1b4b46a723e5c085b87a9f3977c17e9978e\n",
      "Amount to be tranfered: 5\n",
      "Fee to be charged for this transaction: 2\n",
      "\n",
      "**Please note that the sender will be charged with the fee for this transaction**\n",
      "\n",
      "\n",
      "SUCCESSFUL VERIFICATION\n",
      "\n",
      "\n",
      "---------VERIFIED TRANSACTION---------\n",
      "Transaction ID: 2ccf29e269997cc765077e2f1fd81a4d0b6f21a50c570522d9021b81267f0c29\n",
      "Sender's Signature: 3046022100d296e1912a8d72d89f73d454bbbbf9c570727403f887893ea3d27cef487c1d200221008ece99f5b6ae2070eba6566612ff815ee5a2a3be0045e5135f8dfa539a5f1cfe\n",
      "\n",
      " \n",
      "===========================================================================\n",
      "===========================================================================\n",
      "\n",
      "\n",
      "---------PENDING TRANSACTION (not yet vefified)----------\n",
      "Sender's address: 03e7381528f20d766ba61dfaf2e855b828f52d1b\n",
      "Recipient's address: d30da13581059a0a18078568984fed83033eeccf\n",
      "Amount to be tranfered: 11\n",
      "Fee to be charged for this transaction: 10\n",
      "\n",
      "**Please note that the sender will be charged with the fee for this transaction**\n",
      "\n",
      "\n",
      "SUCCESSFUL VERIFICATION\n",
      "\n",
      "\n",
      "---------VERIFIED TRANSACTION---------\n",
      "Transaction ID: 42f52cec482779012292d28ae3be4a312336b797e582d7102300a5c8c2134e70\n",
      "Sender's Signature: 3046022100b5dffbb56c0aaeb0e9149c2a6c748d4ae3074f682ed68d3fefbcf46455e32d39022100cf0454065e983102cebca734b035a453c9227f55fddb9b022e83b0e30d836e34\n",
      "\n",
      " \n",
      "===========================================================================\n",
      "===========================================================================\n",
      "\n",
      "\n",
      "---------PENDING TRANSACTION (not yet vefified)----------\n",
      "Sender's address: 095bb1b4b46a723e5c085b87a9f3977c17e9978e\n",
      "Recipient's address: 937733028c3557b1dceb35ff07c776d09ccdb2c6\n",
      "Amount to be tranfered: 10\n",
      "Fee to be charged for this transaction: 9\n",
      "\n",
      "**Please note that the sender will be charged with the fee for this transaction**\n",
      "\n",
      "\n",
      "SUCCESSFUL VERIFICATION\n",
      "\n",
      "\n",
      "---------VERIFIED TRANSACTION---------\n",
      "Transaction ID: 6641faec327fa49bcddd15e575bb2afbb422531c24bab59f694d49f2935c70aa\n",
      "Sender's Signature: 3045022069cf6f16debbd6fc2c4967a72dfd26b072724bda3f5999b42599f963a342ceb80221009d15b0599eb62f68e3e2637718f93f2b59d34be20cca0af28470220acd8eeffa\n",
      "\n",
      " \n",
      "===========================================================================\n",
      "===========================================================================\n",
      "\n",
      "\n",
      "---------PENDING TRANSACTION (not yet vefified)----------\n",
      "Sender's address: 095bb1b4b46a723e5c085b87a9f3977c17e9978e\n",
      "Recipient's address: d30da13581059a0a18078568984fed83033eeccf\n",
      "Amount to be tranfered: 7\n",
      "Fee to be charged for this transaction: 1\n",
      "\n",
      "**Please note that the sender will be charged with the fee for this transaction**\n",
      "\n",
      "\n",
      "SUCCESSFUL VERIFICATION\n",
      "\n",
      "\n",
      "---------VERIFIED TRANSACTION---------\n",
      "Transaction ID: e72f050c6105128fa861ae17961e3c296a156366fe8ee584563c3c47e1d4e71c\n",
      "Sender's Signature: 3046022100d7658e0545c68a7558914ac9550a41faa937da300cf4886680ed7d016ba7a432022100fdc4453489485c99a71cf206bdf28e0c0cdaf037d416f7e33590603710f5c059\n",
      "\n",
      " \n",
      "===========================================================================\n",
      "===========================================================================\n",
      "\n",
      "\n",
      "---------PENDING TRANSACTION (not yet vefified)----------\n",
      "Sender's address: 095bb1b4b46a723e5c085b87a9f3977c17e9978e\n",
      "Recipient's address: 01f45e9a36a2d02c2283effdf37be76e5daf1991\n",
      "Amount to be tranfered: 11\n",
      "Fee to be charged for this transaction: 8\n",
      "\n",
      "**Please note that the sender will be charged with the fee for this transaction**\n",
      "\n",
      "\n",
      "SUCCESSFUL VERIFICATION\n",
      "\n",
      "\n",
      "---------VERIFIED TRANSACTION---------\n",
      "Transaction ID: 96e6f04ecdf1f819aac8dd05c75e8408a1759b885cad6909b2c395c18da32a4a\n",
      "Sender's Signature: 30450220640a10e03af4c20404b17f048455ee791b7f5586b2a57566552d2c422c39fd41022100aae8ec45d30c2603a5bb647a13f259f2dd82fb3e50692639f4bdf2f1b25fc7e1\n",
      "\n",
      " \n",
      "===========================================================================\n",
      "===========================================================================\n",
      "\n",
      "\n",
      "---------PENDING TRANSACTION (not yet vefified)----------\n",
      "Sender's address: 99450119dd27a536414bf41495334d37d88a9fde\n",
      "Recipient's address: 64cf86e7dab850fea8b54533cb83eb22f1b30b65\n",
      "Amount to be tranfered: 7\n",
      "Fee to be charged for this transaction: 2\n",
      "\n",
      "**Please note that the sender will be charged with the fee for this transaction**\n",
      "\n",
      "\n",
      "SUCCESSFUL VERIFICATION\n",
      "\n",
      "\n",
      "---------VERIFIED TRANSACTION---------\n",
      "Transaction ID: fbab425c08643246ff0d1aaa5f26dc97205ce2c2d632fd966b2ba1e8c7435848\n",
      "Sender's Signature: 304502206743cf96ed614aa41e804919b9881659cf0588485b68e08b58a88c5d8de7f87f022100d635c77b247a7152e025ab2756bd380f0114e0067061396f6578bfbe4b5bdb89\n",
      "\n",
      " \n",
      "===========================================================================\n",
      "===========================================================================\n",
      "\n",
      "\n",
      "---------PENDING TRANSACTION (not yet vefified)----------\n",
      "Sender's address: 03e7381528f20d766ba61dfaf2e855b828f52d1b\n",
      "Recipient's address: d30da13581059a0a18078568984fed83033eeccf\n",
      "Amount to be tranfered: 6\n",
      "Fee to be charged for this transaction: 1\n",
      "\n",
      "**Please note that the sender will be charged with the fee for this transaction**\n",
      "\n",
      "\n",
      "SUCCESSFUL VERIFICATION\n",
      "\n",
      "\n",
      "---------VERIFIED TRANSACTION---------\n",
      "Transaction ID: bfbd36b2112834af0ce2ed1faf27c6bfca3667c6033d9e6747b7e81ba699f1d1\n",
      "Sender's Signature: 3045022010456440881f48786dec71cd4c7e89e1f60b10798acc025771d54f41166d93360221009c01b05f6ccf2d6d539a44a575115b9be59cd64d6417341e1edd09037c92d145\n",
      "\n",
      " \n",
      "===========================================================================\n",
      "===========================================================================\n",
      "\n",
      "\n",
      "---------PENDING TRANSACTION (not yet vefified)----------\n",
      "Sender's address: 03e7381528f20d766ba61dfaf2e855b828f52d1b\n",
      "Recipient's address: 1739651215c4ac4fd74ab4d7c3bbaae34f99eece\n",
      "Amount to be tranfered: 5\n",
      "Fee to be charged for this transaction: 4\n",
      "\n",
      "**Please note that the sender will be charged with the fee for this transaction**\n",
      "\n",
      "\n",
      "SUCCESSFUL VERIFICATION\n",
      "\n",
      "\n",
      "---------VERIFIED TRANSACTION---------\n",
      "Transaction ID: ab840c8e14a3633251e70a7b1c9d462e0943738993a438c50710b6b9b4667909\n",
      "Sender's Signature: 3045022100dd9904351577c0a39bce62c57ad461396f1f3918b44fa4f5d8feee0a1e6bd2f80220591ddb7ebf9fe37a5fe4cc7217b46413b775af873cf6fc4c63702c4d67bdebe4\n",
      "\n",
      " \n",
      "===========================================================================\n",
      "===========================================================================\n",
      "\n",
      "\n",
      "---------PENDING TRANSACTION (not yet vefified)----------\n",
      "Sender's address: 1739651215c4ac4fd74ab4d7c3bbaae34f99eece\n",
      "Recipient's address: 937733028c3557b1dceb35ff07c776d09ccdb2c6\n",
      "Amount to be tranfered: 5\n",
      "Fee to be charged for this transaction: 2\n",
      "\n",
      "**Please note that the sender will be charged with the fee for this transaction**\n",
      "\n",
      "\n",
      "SUCCESSFUL VERIFICATION\n",
      "\n",
      "\n",
      "---------VERIFIED TRANSACTION---------\n",
      "Transaction ID: b1a9d01cad2b19ab7e8b3bf01fdef5e92ee49442b8f6cf304943c7a1969c1fbd\n",
      "Sender's Signature: 30450220153e2b72b540ee5e4928dd711cac20dbf3b34ecc64abc39b2c89604b563e4d3b022100d09025fbfbb7849a90866be299fd70bc2a066a40aee8b55a5ae23a55db18c6e8\n",
      "\n",
      " \n",
      "===========================================================================\n",
      "===========================================================================\n",
      "\n",
      "\n",
      "---------PENDING TRANSACTION (not yet vefified)----------\n",
      "Sender's address: 64cf86e7dab850fea8b54533cb83eb22f1b30b65\n",
      "Recipient's address: d30da13581059a0a18078568984fed83033eeccf\n",
      "Amount to be tranfered: 5\n",
      "Fee to be charged for this transaction: 3\n",
      "\n",
      "**Please note that the sender will be charged with the fee for this transaction**\n",
      "\n",
      "\n",
      "SUCCESSFUL VERIFICATION\n",
      "\n",
      "\n",
      "---------VERIFIED TRANSACTION---------\n",
      "Transaction ID: 4cf6363f0e836a2aa8a80eb831e2ef68302ad96d1deb02cdf0702a0137ce6fa7\n",
      "Sender's Signature: 3046022100f01d12ee8a0e454071e4299900c72b9588f96a439c73cb0a910b1624e69ebdfc022100c6710afe0f95f28df35828afdef098c6dd5b4098d0f76f913283bc4a71b5cdd3\n",
      "\n",
      " \n",
      "===========================================================================\n",
      "===========================================================================\n",
      "\n",
      "\n",
      "---------PENDING TRANSACTION (not yet vefified)----------\n",
      "Sender's address: 937733028c3557b1dceb35ff07c776d09ccdb2c6\n",
      "Recipient's address: 03e7381528f20d766ba61dfaf2e855b828f52d1b\n",
      "Amount to be tranfered: 7\n",
      "Fee to be charged for this transaction: 5\n",
      "\n",
      "**Please note that the sender will be charged with the fee for this transaction**\n",
      "\n",
      "\n",
      "SUCCESSFUL VERIFICATION\n",
      "\n",
      "\n",
      "---------VERIFIED TRANSACTION---------\n",
      "Transaction ID: 2176a5f6229f4f0ceba7f0892fea172a4079839085ab64a30110698c0e41fabd\n",
      "Sender's Signature: 3045022100dcf3333efd1359bc77e85b0b5022ef4cda21022ce994d79907cc1ed2d445ee2b022052f4ae1eb07679a9ac5852da923b1e02859fe3d5078dc40060582d57ae0591da\n",
      "\n",
      " \n",
      "===========================================================================\n",
      "===========================================================================\n"
     ]
    },
    {
     "data": {
      "text/plain": [
       "{'f05ea63966f8e025855b9ccdc12cd149e842d371': <__main__.UserState at 0x7fc340d90fd0>,\n",
       " '64cf86e7dab850fea8b54533cb83eb22f1b30b65': <__main__.UserState at 0x7fc320fb7750>,\n",
       " '937733028c3557b1dceb35ff07c776d09ccdb2c6': <__main__.UserState at 0x7fc350dbb4d0>,\n",
       " '99450119dd27a536414bf41495334d37d88a9fde': <__main__.UserState at 0x7fc320464e90>,\n",
       " '03e7381528f20d766ba61dfaf2e855b828f52d1b': <__main__.UserState at 0x7fc320464d90>,\n",
       " 'd30da13581059a0a18078568984fed83033eeccf': <__main__.UserState at 0x7fc32047d0d0>,\n",
       " '01f45e9a36a2d02c2283effdf37be76e5daf1991': <__main__.UserState at 0x7fc320fb7690>,\n",
       " '1739651215c4ac4fd74ab4d7c3bbaae34f99eece': <__main__.UserState at 0x7fc32047d210>,\n",
       " '63d6880352a752f1744c4db353345159b4d7d831': <__main__.UserState at 0x7fc3502d9a10>,\n",
       " '095bb1b4b46a723e5c085b87a9f3977c17e9978e': <__main__.UserState at 0x7fc320464f10>}"
      ]
     },
     "execution_count": 20,
     "metadata": {},
     "output_type": "execute_result"
    }
   ],
   "source": [
    "block_1.verify_and_get_changes(difficulty, glob_record)"
   ]
  },
  {
   "cell_type": "markdown",
   "metadata": {},
   "source": [
    "Here is a data frame representation of the updated global record."
   ]
  },
  {
   "cell_type": "code",
   "execution_count": 21,
   "metadata": {
    "scrolled": true
   },
   "outputs": [
    {
     "data": {
      "text/html": [
       "<div>\n",
       "<style scoped>\n",
       "    .dataframe tbody tr th:only-of-type {\n",
       "        vertical-align: middle;\n",
       "    }\n",
       "\n",
       "    .dataframe tbody tr th {\n",
       "        vertical-align: top;\n",
       "    }\n",
       "\n",
       "    .dataframe thead th {\n",
       "        text-align: right;\n",
       "    }\n",
       "</style>\n",
       "<table border=\"1\" class=\"dataframe\">\n",
       "  <thead>\n",
       "    <tr style=\"text-align: right;\">\n",
       "      <th></th>\n",
       "      <th>address</th>\n",
       "      <th>balance</th>\n",
       "      <th>nonce</th>\n",
       "    </tr>\n",
       "  </thead>\n",
       "  <tbody>\n",
       "    <tr>\n",
       "      <th>0</th>\n",
       "      <td>f05ea63966f8e025855b9ccdc12cd149e842d371</td>\n",
       "      <td>600</td>\n",
       "      <td>0</td>\n",
       "    </tr>\n",
       "    <tr>\n",
       "      <th>1</th>\n",
       "      <td>64cf86e7dab850fea8b54533cb83eb22f1b30b65</td>\n",
       "      <td>10679</td>\n",
       "      <td>2</td>\n",
       "    </tr>\n",
       "    <tr>\n",
       "      <th>2</th>\n",
       "      <td>937733028c3557b1dceb35ff07c776d09ccdb2c6</td>\n",
       "      <td>596</td>\n",
       "      <td>2</td>\n",
       "    </tr>\n",
       "    <tr>\n",
       "      <th>3</th>\n",
       "      <td>99450119dd27a536414bf41495334d37d88a9fde</td>\n",
       "      <td>593</td>\n",
       "      <td>1</td>\n",
       "    </tr>\n",
       "    <tr>\n",
       "      <th>4</th>\n",
       "      <td>03e7381528f20d766ba61dfaf2e855b828f52d1b</td>\n",
       "      <td>553</td>\n",
       "      <td>8</td>\n",
       "    </tr>\n",
       "    <tr>\n",
       "      <th>5</th>\n",
       "      <td>d30da13581059a0a18078568984fed83033eeccf</td>\n",
       "      <td>610</td>\n",
       "      <td>1</td>\n",
       "    </tr>\n",
       "    <tr>\n",
       "      <th>6</th>\n",
       "      <td>01f45e9a36a2d02c2283effdf37be76e5daf1991</td>\n",
       "      <td>596</td>\n",
       "      <td>1</td>\n",
       "    </tr>\n",
       "    <tr>\n",
       "      <th>7</th>\n",
       "      <td>1739651215c4ac4fd74ab4d7c3bbaae34f99eece</td>\n",
       "      <td>591</td>\n",
       "      <td>2</td>\n",
       "    </tr>\n",
       "    <tr>\n",
       "      <th>8</th>\n",
       "      <td>63d6880352a752f1744c4db353345159b4d7d831</td>\n",
       "      <td>604</td>\n",
       "      <td>0</td>\n",
       "    </tr>\n",
       "    <tr>\n",
       "      <th>9</th>\n",
       "      <td>095bb1b4b46a723e5c085b87a9f3977c17e9978e</td>\n",
       "      <td>578</td>\n",
       "      <td>3</td>\n",
       "    </tr>\n",
       "  </tbody>\n",
       "</table>\n",
       "</div>"
      ],
      "text/plain": [
       "                                    address  balance  nonce\n",
       "0  f05ea63966f8e025855b9ccdc12cd149e842d371      600      0\n",
       "1  64cf86e7dab850fea8b54533cb83eb22f1b30b65    10679      2\n",
       "2  937733028c3557b1dceb35ff07c776d09ccdb2c6      596      2\n",
       "3  99450119dd27a536414bf41495334d37d88a9fde      593      1\n",
       "4  03e7381528f20d766ba61dfaf2e855b828f52d1b      553      8\n",
       "5  d30da13581059a0a18078568984fed83033eeccf      610      1\n",
       "6  01f45e9a36a2d02c2283effdf37be76e5daf1991      596      1\n",
       "7  1739651215c4ac4fd74ab4d7c3bbaae34f99eece      591      2\n",
       "8  63d6880352a752f1744c4db353345159b4d7d831      604      0\n",
       "9  095bb1b4b46a723e5c085b87a9f3977c17e9978e      578      3"
      ]
     },
     "execution_count": 21,
     "metadata": {},
     "output_type": "execute_result"
    }
   ],
   "source": [
    "pd.DataFrame({\"address\":glob_record.keys(),\n",
    "              \"balance\":[i.balance for i in glob_record.values()],\n",
    "              \"nonce\": [i.nonce for i in glob_record.values()]})"
   ]
  },
  {
   "cell_type": "markdown",
   "metadata": {},
   "source": [
    "As we can see, the balances are succesfully updated (one can compare it against the log printed during the verification of the block). As we can also see, the miner was rewarded with 10000 zimcoins for mining the block."
   ]
  },
  {
   "cell_type": "markdown",
   "metadata": {},
   "source": [
    "## Testing\n",
    "<a id=\"testing\"></a>"
   ]
  },
  {
   "cell_type": "markdown",
   "metadata": {},
   "source": [
    "### Scenario for testing difficulty\n",
    "<a id=\"testing_diff\"></a>"
   ]
  },
  {
   "cell_type": "code",
   "execution_count": 22,
   "metadata": {},
   "outputs": [],
   "source": [
    "# Assigning the previous block_id\n",
    "previous_block_id = binascii.unhexlify(\"0000f6950db0d81eb1eacaf96cf4687d568a40681e0e36793b8da991bc4bbbbe\")\n",
    "# Assigning the heigh\n",
    "height = 3\n",
    "# Randomly selecting a miner from the pool of uses\n",
    "miner_hash = address(UserList[random.randint(0, 9)].private_key)\n",
    "timestamp = int(time.time())\n",
    "# We set the expected number of tries for a solution to be found\n",
    "difficulty = 50000\n",
    "# Another random transaction list\n",
    "transList_2 = random_transactions(glob_record, UserList)"
   ]
  },
  {
   "cell_type": "markdown",
   "metadata": {},
   "source": [
    "We mine the block"
   ]
  },
  {
   "cell_type": "code",
   "execution_count": 23,
   "metadata": {},
   "outputs": [
    {
     "name": "stdout",
     "output_type": "stream",
     "text": [
      "0000f657ed087c185ddbf22248e1918d3d287c18984e902ed02bc66886dd6d1a 3019920483040360689\n"
     ]
    }
   ],
   "source": [
    "block_2 = mine_block(previous_block_id, height, miner_hash, transList_2,timestamp, difficulty)"
   ]
  },
  {
   "cell_type": "markdown",
   "metadata": {},
   "source": [
    "Then we test for aninvalid difficulty value"
   ]
  },
  {
   "cell_type": "code",
   "execution_count": 24,
   "metadata": {},
   "outputs": [
    {
     "ename": "Exception",
     "evalue": "\n\nBLOCK VERIFICATION FAILED: Invalid difficulty\n\n",
     "output_type": "error",
     "traceback": [
      "\u001b[0;31m---------------------------------------------------------------------------\u001b[0m",
      "\u001b[0;31mException\u001b[0m                                 Traceback (most recent call last)",
      "\u001b[0;32m<ipython-input-24-4f71f9de2f1c>\u001b[0m in \u001b[0;36m<module>\u001b[0;34m\u001b[0m\n\u001b[0;32m----> 1\u001b[0;31m \u001b[0mblock_2\u001b[0m\u001b[0;34m.\u001b[0m\u001b[0mverify_and_get_changes\u001b[0m\u001b[0;34m(\u001b[0m\u001b[0;36m10000\u001b[0m\u001b[0;34m,\u001b[0m \u001b[0mglob_record\u001b[0m\u001b[0;34m)\u001b[0m\u001b[0;34m\u001b[0m\u001b[0;34m\u001b[0m\u001b[0m\n\u001b[0m",
      "\u001b[0;32m<ipython-input-14-14f067284a5c>\u001b[0m in \u001b[0;36mverify_and_get_changes\u001b[0;34m(self, difficulty, previous_user_states)\u001b[0m\n\u001b[1;32m    103\u001b[0m         \u001b[0;31m# the proof of work required to mine the block\u001b[0m\u001b[0;34m\u001b[0m\u001b[0;34m\u001b[0m\u001b[0;34m\u001b[0m\u001b[0m\n\u001b[1;32m    104\u001b[0m         \u001b[0;32mif\u001b[0m \u001b[0mdifficulty\u001b[0m \u001b[0;34m!=\u001b[0m \u001b[0mself\u001b[0m\u001b[0;34m.\u001b[0m\u001b[0mdifficulty\u001b[0m\u001b[0;34m:\u001b[0m\u001b[0;34m\u001b[0m\u001b[0;34m\u001b[0m\u001b[0m\n\u001b[0;32m--> 105\u001b[0;31m             \u001b[0;32mraise\u001b[0m \u001b[0mException\u001b[0m\u001b[0;34m(\u001b[0m\u001b[0;34m\"\\n\\nBLOCK VERIFICATION FAILED: Invalid difficulty\\n\\n\"\u001b[0m\u001b[0;34m)\u001b[0m\u001b[0;34m\u001b[0m\u001b[0;34m\u001b[0m\u001b[0m\n\u001b[0m\u001b[1;32m    106\u001b[0m \u001b[0;34m\u001b[0m\u001b[0m\n\u001b[1;32m    107\u001b[0m         \u001b[0;31m# Verifying that the proof of work criteria are met\u001b[0m\u001b[0;34m\u001b[0m\u001b[0;34m\u001b[0m\u001b[0;34m\u001b[0m\u001b[0m\n",
      "\u001b[0;31mException\u001b[0m: \n\nBLOCK VERIFICATION FAILED: Invalid difficulty\n\n"
     ]
    }
   ],
   "source": [
    "block_2.verify_and_get_changes(10000, glob_record)"
   ]
  },
  {
   "cell_type": "markdown",
   "metadata": {},
   "source": [
    "### Scenario for testing block_id\n",
    "<a id=\"testing_bid\"></a>"
   ]
  },
  {
   "cell_type": "code",
   "execution_count": 25,
   "metadata": {},
   "outputs": [],
   "source": [
    "# Assigning the previous block_id\n",
    "previous_block_id = binascii.unhexlify(\"0000f6950db0d81eb1eacaf96cf4687d568a40681e0e36793b8da991bc4bbbbe\")\n",
    "# Assigning the heigh\n",
    "height = 3\n",
    "# Randomly selecting a miner from the pool of uses\n",
    "miner_hash = address(UserList[random.randint(0, 9)].private_key)\n",
    "timestamp = int(time.time())\n",
    "# We set the expected number of tries for a solution to be found\n",
    "difficulty = 50000\n",
    "# Another random transaction list\n",
    "transList_3 = random_transactions(glob_record, UserList)"
   ]
  },
  {
   "cell_type": "markdown",
   "metadata": {},
   "source": [
    "We mine the block"
   ]
  },
  {
   "cell_type": "code",
   "execution_count": 26,
   "metadata": {},
   "outputs": [
    {
     "name": "stdout",
     "output_type": "stream",
     "text": [
      "0000bdd178add44dc72df1eeb7440112112ede904409c6bceec97a92787711ea 12406089105336636290\n"
     ]
    }
   ],
   "source": [
    "block_3 = mine_block(previous_block_id, height, miner_hash, transList_3, timestamp, difficulty)"
   ]
  },
  {
   "cell_type": "markdown",
   "metadata": {},
   "source": [
    "If we deliberately change one or more of the block id components (this time we test nonce but the same error will be raised if one or more of the rest of the variables will be changed) the verification will raise a meaningful error."
   ]
  },
  {
   "cell_type": "code",
   "execution_count": 27,
   "metadata": {},
   "outputs": [],
   "source": [
    "block_3.nonce = 8316201775920"
   ]
  },
  {
   "cell_type": "markdown",
   "metadata": {},
   "source": [
    "We verify the block"
   ]
  },
  {
   "cell_type": "code",
   "execution_count": 28,
   "metadata": {},
   "outputs": [
    {
     "ename": "Exception",
     "evalue": "\n\nBLOCK VERIFICATION FAILED: Invalid block id\n\n",
     "output_type": "error",
     "traceback": [
      "\u001b[0;31m---------------------------------------------------------------------------\u001b[0m",
      "\u001b[0;31mException\u001b[0m                                 Traceback (most recent call last)",
      "\u001b[0;32m<ipython-input-28-237a28a7756b>\u001b[0m in \u001b[0;36m<module>\u001b[0;34m\u001b[0m\n\u001b[0;32m----> 1\u001b[0;31m \u001b[0mblock_3\u001b[0m\u001b[0;34m.\u001b[0m\u001b[0mverify_and_get_changes\u001b[0m\u001b[0;34m(\u001b[0m\u001b[0mdifficulty\u001b[0m\u001b[0;34m,\u001b[0m \u001b[0mglob_record\u001b[0m\u001b[0;34m)\u001b[0m\u001b[0;34m\u001b[0m\u001b[0;34m\u001b[0m\u001b[0m\n\u001b[0m",
      "\u001b[0;32m<ipython-input-14-14f067284a5c>\u001b[0m in \u001b[0;36mverify_and_get_changes\u001b[0;34m(self, difficulty, previous_user_states)\u001b[0m\n\u001b[1;32m    120\u001b[0m \u001b[0;34m\u001b[0m\u001b[0m\n\u001b[1;32m    121\u001b[0m         \u001b[0;32mif\u001b[0m  \u001b[0mblock_id\u001b[0m \u001b[0;34m!=\u001b[0m \u001b[0mself\u001b[0m\u001b[0;34m.\u001b[0m\u001b[0mblock_id\u001b[0m\u001b[0;34m:\u001b[0m\u001b[0;34m\u001b[0m\u001b[0;34m\u001b[0m\u001b[0m\n\u001b[0;32m--> 122\u001b[0;31m             \u001b[0;32mraise\u001b[0m \u001b[0mException\u001b[0m\u001b[0;34m(\u001b[0m\u001b[0;34m\"\\n\\nBLOCK VERIFICATION FAILED: Invalid block id\\n\\n\"\u001b[0m\u001b[0;34m)\u001b[0m\u001b[0;34m\u001b[0m\u001b[0;34m\u001b[0m\u001b[0m\n\u001b[0m\u001b[1;32m    123\u001b[0m \u001b[0;34m\u001b[0m\u001b[0m\n\u001b[1;32m    124\u001b[0m \u001b[0;34m\u001b[0m\u001b[0m\n",
      "\u001b[0;31mException\u001b[0m: \n\nBLOCK VERIFICATION FAILED: Invalid block id\n\n"
     ]
    }
   ],
   "source": [
    "block_3.verify_and_get_changes(difficulty, glob_record)"
   ]
  },
  {
   "cell_type": "markdown",
   "metadata": {},
   "source": [
    "### Scenario for testing valid number of transactions\n",
    "<a id=\"testing_ltr\"></a>"
   ]
  },
  {
   "cell_type": "code",
   "execution_count": 29,
   "metadata": {},
   "outputs": [],
   "source": [
    "# Assigning the previous block_id\n",
    "previous_block_id = binascii.unhexlify(\"0000f6950db0d81eb1eacaf96cf4687d568a40681e0e36793b8da991bc4bbbbe\")\n",
    "# Assigning the heigh\n",
    "height = 3\n",
    "# Randomly selecting a miner from the pool of uses\n",
    "miner_hash = address(UserList[random.randint(0, 9)].private_key)\n",
    "timestamp = int(time.time())\n",
    "# We set the expected number of tries for a solution to be found\n",
    "difficulty = 50000\n",
    "\n",
    "\n",
    "# We create a list of 40 random transactions\n",
    "transList_4 = random_transactions(glob_record, UserList)*2"
   ]
  },
  {
   "cell_type": "markdown",
   "metadata": {},
   "source": [
    "This time in our scenario we assign a block a higher number (40) of transactions than the aggreed 25 maximum"
   ]
  },
  {
   "cell_type": "code",
   "execution_count": 30,
   "metadata": {},
   "outputs": [
    {
     "data": {
      "text/plain": [
       "40"
      ]
     },
     "execution_count": 30,
     "metadata": {},
     "output_type": "execute_result"
    }
   ],
   "source": [
    "len(transList_4)"
   ]
  },
  {
   "cell_type": "markdown",
   "metadata": {},
   "source": [
    "We mine the block"
   ]
  },
  {
   "cell_type": "code",
   "execution_count": 31,
   "metadata": {},
   "outputs": [
    {
     "name": "stdout",
     "output_type": "stream",
     "text": [
      "00013037c0f91619699d7841ae804d92236d1e5a5f73d9097be564b65bcb138f 15129527522533426063\n"
     ]
    }
   ],
   "source": [
    "block_4 = mine_block(previous_block_id, height, miner_hash, transList_4, timestamp, difficulty)"
   ]
  },
  {
   "cell_type": "markdown",
   "metadata": {},
   "source": [
    "Finally, when we verify the block, the following exception is raised."
   ]
  },
  {
   "cell_type": "code",
   "execution_count": 32,
   "metadata": {},
   "outputs": [
    {
     "ename": "Exception",
     "evalue": "\n\nInvalid number of transactions\n\n",
     "output_type": "error",
     "traceback": [
      "\u001b[0;31m---------------------------------------------------------------------------\u001b[0m",
      "\u001b[0;31mException\u001b[0m                                 Traceback (most recent call last)",
      "\u001b[0;32m<ipython-input-32-57ee3f329a1a>\u001b[0m in \u001b[0;36m<module>\u001b[0;34m\u001b[0m\n\u001b[0;32m----> 1\u001b[0;31m \u001b[0mblock_4\u001b[0m\u001b[0;34m.\u001b[0m\u001b[0mverify_and_get_changes\u001b[0m\u001b[0;34m(\u001b[0m\u001b[0mdifficulty\u001b[0m\u001b[0;34m,\u001b[0m \u001b[0mglob_record\u001b[0m\u001b[0;34m)\u001b[0m\u001b[0;34m\u001b[0m\u001b[0;34m\u001b[0m\u001b[0m\n\u001b[0m",
      "\u001b[0;32m<ipython-input-14-14f067284a5c>\u001b[0m in \u001b[0;36mverify_and_get_changes\u001b[0;34m(self, difficulty, previous_user_states)\u001b[0m\n\u001b[1;32m    127\u001b[0m             \u001b[0;32mraise\u001b[0m \u001b[0mException\u001b[0m\u001b[0;34m(\u001b[0m\u001b[0;34m\"\\n\\nTransactions parameter should be a list of transactions\\n\\n\"\u001b[0m\u001b[0;34m)\u001b[0m\u001b[0;34m\u001b[0m\u001b[0;34m\u001b[0m\u001b[0m\n\u001b[1;32m    128\u001b[0m         \u001b[0;32mif\u001b[0m \u001b[0mlen\u001b[0m\u001b[0;34m(\u001b[0m\u001b[0mself\u001b[0m\u001b[0;34m.\u001b[0m\u001b[0mtransactions\u001b[0m\u001b[0;34m)\u001b[0m \u001b[0;32mnot\u001b[0m \u001b[0;32min\u001b[0m \u001b[0mrange\u001b[0m\u001b[0;34m(\u001b[0m\u001b[0;36m1\u001b[0m\u001b[0;34m,\u001b[0m \u001b[0;36m26\u001b[0m\u001b[0;34m)\u001b[0m\u001b[0;34m:\u001b[0m\u001b[0;34m\u001b[0m\u001b[0;34m\u001b[0m\u001b[0m\n\u001b[0;32m--> 129\u001b[0;31m             \u001b[0;32mraise\u001b[0m \u001b[0mException\u001b[0m\u001b[0;34m(\u001b[0m\u001b[0;34m\"\\n\\nInvalid number of transactions\\n\\n\"\u001b[0m\u001b[0;34m)\u001b[0m\u001b[0;34m\u001b[0m\u001b[0;34m\u001b[0m\u001b[0m\n\u001b[0m\u001b[1;32m    130\u001b[0m \u001b[0;34m\u001b[0m\u001b[0m\n\u001b[1;32m    131\u001b[0m \u001b[0;34m\u001b[0m\u001b[0m\n",
      "\u001b[0;31mException\u001b[0m: \n\nInvalid number of transactions\n\n"
     ]
    }
   ],
   "source": [
    "block_4.verify_and_get_changes(difficulty, glob_record)"
   ]
  },
  {
   "cell_type": "markdown",
   "metadata": {},
   "source": [
    "### Scenario for testing miner's address lenght\n",
    "<a id=\"testing_addr\"></a>"
   ]
  },
  {
   "cell_type": "code",
   "execution_count": 33,
   "metadata": {},
   "outputs": [],
   "source": [
    "# Assigning the previous block_id\n",
    "previous_block_id = binascii.unhexlify(\"0000f6950db0d81eb1eacaf96cf4687d568a40681e0e36793b8da991bc4bbbbe\")\n",
    "# Assigning the heigh\n",
    "height = 3\n",
    "\n",
    "\n",
    "# We generate a miner's address of invalid lengh\n",
    "miner_hash = b'\\x95\\xec\\xc5\\xe4\\x81\\x16\\x002\\xb6$~\\xc6+U\\xcf\\xb9\\x92'\n",
    "\n",
    "timestamp = int(time.time())\n",
    "# We set the expected number of tries for a solution to be found\n",
    "difficulty = 50000\n",
    "# We create a list of 40 random transactions\n",
    "transList_5 = random_transactions(glob_record, UserList)"
   ]
  },
  {
   "cell_type": "markdown",
   "metadata": {},
   "source": [
    "In our scenario we passed and invalid miner's address"
   ]
  },
  {
   "cell_type": "markdown",
   "metadata": {},
   "source": [
    "We mine the block."
   ]
  },
  {
   "cell_type": "code",
   "execution_count": 34,
   "metadata": {},
   "outputs": [
    {
     "name": "stdout",
     "output_type": "stream",
     "text": [
      "0000e9940d40a0f2759818e522e52071e039e53cf86a5c4223d60a81ae24fcd9 9053608028276510721\n"
     ]
    }
   ],
   "source": [
    "block_5 = mine_block(previous_block_id, height, miner_hash, transList_5, timestamp, difficulty)"
   ]
  },
  {
   "cell_type": "markdown",
   "metadata": {},
   "source": [
    "Once verified, an error is raised."
   ]
  },
  {
   "cell_type": "code",
   "execution_count": 35,
   "metadata": {},
   "outputs": [
    {
     "ename": "Exception",
     "evalue": "\n\nVERIFICATION FAILED: The receipient's address is not valid\n\n",
     "output_type": "error",
     "traceback": [
      "\u001b[0;31m---------------------------------------------------------------------------\u001b[0m",
      "\u001b[0;31mException\u001b[0m                                 Traceback (most recent call last)",
      "\u001b[0;32m<ipython-input-35-afc22818349c>\u001b[0m in \u001b[0;36m<module>\u001b[0;34m\u001b[0m\n\u001b[0;32m----> 1\u001b[0;31m \u001b[0mblock_5\u001b[0m\u001b[0;34m.\u001b[0m\u001b[0mverify_and_get_changes\u001b[0m\u001b[0;34m(\u001b[0m\u001b[0mdifficulty\u001b[0m\u001b[0;34m,\u001b[0m \u001b[0mglob_record\u001b[0m\u001b[0;34m)\u001b[0m\u001b[0;34m\u001b[0m\u001b[0;34m\u001b[0m\u001b[0m\n\u001b[0m",
      "\u001b[0;32m<ipython-input-14-14f067284a5c>\u001b[0m in \u001b[0;36mverify_and_get_changes\u001b[0;34m(self, difficulty, previous_user_states)\u001b[0m\n\u001b[1;32m    132\u001b[0m         \u001b[0;31m# Checks for errors in the lenght of receipient's address\u001b[0m\u001b[0;34m\u001b[0m\u001b[0;34m\u001b[0m\u001b[0;34m\u001b[0m\u001b[0m\n\u001b[1;32m    133\u001b[0m         \u001b[0;32mif\u001b[0m \u001b[0mlen\u001b[0m\u001b[0;34m(\u001b[0m\u001b[0mself\u001b[0m\u001b[0;34m.\u001b[0m\u001b[0mminer\u001b[0m\u001b[0;34m)\u001b[0m \u001b[0;34m!=\u001b[0m \u001b[0;36m20\u001b[0m\u001b[0;34m:\u001b[0m\u001b[0;34m\u001b[0m\u001b[0;34m\u001b[0m\u001b[0m\n\u001b[0;32m--> 134\u001b[0;31m             \u001b[0;32mraise\u001b[0m \u001b[0mException\u001b[0m\u001b[0;34m(\u001b[0m\u001b[0;34m\"\\n\\nVERIFICATION FAILED: The receipient's address is not valid\\n\\n\"\u001b[0m\u001b[0;34m)\u001b[0m\u001b[0;34m\u001b[0m\u001b[0;34m\u001b[0m\u001b[0m\n\u001b[0m\u001b[1;32m    135\u001b[0m \u001b[0;34m\u001b[0m\u001b[0m\n\u001b[1;32m    136\u001b[0m         \u001b[0;31m# Generating a list to keep track of multiple transaction of users in the same block\u001b[0m\u001b[0;34m\u001b[0m\u001b[0;34m\u001b[0m\u001b[0;34m\u001b[0m\u001b[0m\n",
      "\u001b[0;31mException\u001b[0m: \n\nVERIFICATION FAILED: The receipient's address is not valid\n\n"
     ]
    }
   ],
   "source": [
    "block_5.verify_and_get_changes(difficulty, glob_record)"
   ]
  },
  {
   "cell_type": "markdown",
   "metadata": {},
   "source": [
    "### Scenario for testing proof of work\n",
    "<a id=\"testing_pow\"></a>"
   ]
  },
  {
   "cell_type": "code",
   "execution_count": null,
   "metadata": {},
   "outputs": [],
   "source": [
    "# Assigning the previous block_id\n",
    "previous_block_id = binascii.unhexlify(\"0000f6950db0d81eb1eacaf96cf4687d568a40681e0e36793b8da991bc4bbbbe\")\n",
    "# Assigning the heigh\n",
    "height = 3\n",
    "# Randomly selecting a miner from the pool of uses\n",
    "miner_hash = address(UserList[random.randint(0, 9)].private_key)\n",
    "timestamp = int(time.time())\n",
    "# We set the expected number of tries for a solution to be found\n",
    "difficulty = 50000\n",
    "# We create a list of 40 random transactions\n",
    "transList_6 = random_transactions(glob_record, UserList)"
   ]
  },
  {
   "cell_type": "markdown",
   "metadata": {},
   "source": [
    "We mine the block by following our scenario variables"
   ]
  },
  {
   "cell_type": "code",
   "execution_count": 36,
   "metadata": {},
   "outputs": [
    {
     "ename": "NameError",
     "evalue": "name 'transList_6' is not defined",
     "output_type": "error",
     "traceback": [
      "\u001b[0;31m---------------------------------------------------------------------------\u001b[0m",
      "\u001b[0;31mNameError\u001b[0m                                 Traceback (most recent call last)",
      "\u001b[0;32m<ipython-input-36-596fdd94efc2>\u001b[0m in \u001b[0;36m<module>\u001b[0;34m\u001b[0m\n\u001b[0;32m----> 1\u001b[0;31m \u001b[0mblock_6\u001b[0m \u001b[0;34m=\u001b[0m \u001b[0mmine_block\u001b[0m\u001b[0;34m(\u001b[0m\u001b[0mprevious_block_id\u001b[0m\u001b[0;34m,\u001b[0m \u001b[0mheight\u001b[0m\u001b[0;34m,\u001b[0m \u001b[0mminer_hash\u001b[0m\u001b[0;34m,\u001b[0m \u001b[0mtransList_6\u001b[0m\u001b[0;34m,\u001b[0m \u001b[0mtimestamp\u001b[0m\u001b[0;34m,\u001b[0m \u001b[0mdifficulty\u001b[0m\u001b[0;34m)\u001b[0m\u001b[0;34m\u001b[0m\u001b[0;34m\u001b[0m\u001b[0m\n\u001b[0m",
      "\u001b[0;31mNameError\u001b[0m: name 'transList_6' is not defined"
     ]
    }
   ],
   "source": [
    "block_6 = mine_block(previous_block_id, height, miner_hash, transList_6, timestamp, difficulty)"
   ]
  },
  {
   "cell_type": "markdown",
   "metadata": {},
   "source": [
    "We deliberately assign a lower hexadecimal number as block id which correspond to insufficient proof of work for the miner."
   ]
  },
  {
   "cell_type": "code",
   "execution_count": 37,
   "metadata": {},
   "outputs": [
    {
     "ename": "NameError",
     "evalue": "name 'block_6' is not defined",
     "output_type": "error",
     "traceback": [
      "\u001b[0;31m---------------------------------------------------------------------------\u001b[0m",
      "\u001b[0;31mNameError\u001b[0m                                 Traceback (most recent call last)",
      "\u001b[0;32m<ipython-input-37-50a0a89fcfb9>\u001b[0m in \u001b[0;36m<module>\u001b[0;34m\u001b[0m\n\u001b[0;32m----> 1\u001b[0;31m \u001b[0mblock_6\u001b[0m\u001b[0;34m.\u001b[0m\u001b[0mblock_id\u001b[0m \u001b[0;34m=\u001b[0m \u001b[0;34m\"0005b3f2da6e89d48d5de2725db4b2f02999a76ae66fe6f4fbd4ffa84c550573\"\u001b[0m\u001b[0;34m\u001b[0m\u001b[0;34m\u001b[0m\u001b[0m\n\u001b[0m",
      "\u001b[0;31mNameError\u001b[0m: name 'block_6' is not defined"
     ]
    }
   ],
   "source": [
    "block_6.block_id = \"0005b3f2da6e89d48d5de2725db4b2f02999a76ae66fe6f4fbd4ffa84c550573\""
   ]
  },
  {
   "cell_type": "markdown",
   "metadata": {},
   "source": [
    "The an error is raised when we verify the block."
   ]
  },
  {
   "cell_type": "code",
   "execution_count": 38,
   "metadata": {},
   "outputs": [
    {
     "ename": "NameError",
     "evalue": "name 'block_6' is not defined",
     "output_type": "error",
     "traceback": [
      "\u001b[0;31m---------------------------------------------------------------------------\u001b[0m",
      "\u001b[0;31mNameError\u001b[0m                                 Traceback (most recent call last)",
      "\u001b[0;32m<ipython-input-38-c7a4764483bb>\u001b[0m in \u001b[0;36m<module>\u001b[0;34m\u001b[0m\n\u001b[0;32m----> 1\u001b[0;31m \u001b[0mblock_6\u001b[0m\u001b[0;34m.\u001b[0m\u001b[0mverify_and_get_changes\u001b[0m\u001b[0;34m(\u001b[0m\u001b[0mdifficulty\u001b[0m\u001b[0;34m,\u001b[0m \u001b[0mglob_record\u001b[0m\u001b[0;34m)\u001b[0m\u001b[0;34m\u001b[0m\u001b[0;34m\u001b[0m\u001b[0m\n\u001b[0m",
      "\u001b[0;31mNameError\u001b[0m: name 'block_6' is not defined"
     ]
    }
   ],
   "source": [
    "block_6.verify_and_get_changes(difficulty, glob_record)"
   ]
  },
  {
   "cell_type": "markdown",
   "metadata": {},
   "source": [
    "### Scenario for testing transactions verification\n",
    "<a id=\"testing_val\"></a>"
   ]
  },
  {
   "cell_type": "markdown",
   "metadata": {},
   "source": [
    "For the last test, we deliberately generate a set of transactions with users sending higher amounts than their balances."
   ]
  },
  {
   "cell_type": "code",
   "execution_count": 39,
   "metadata": {},
   "outputs": [],
   "source": [
    "# Function for generating invalid set of transactions\n",
    "\n",
    "def random_transactions_invalid(states, user_list):\n",
    "    \"\"\"\n",
    "    Returns a list of random transactions, given the\n",
    "    status of the users in a list.\n",
    "    \n",
    "    \"\"\"\n",
    "    transList = []\n",
    "    for i in range(20):\n",
    "        randlist = random.sample(range(1, 10), 2)\n",
    "        \n",
    "        # We assign high values to amount and fee\n",
    "        amount = random.randint(50000, 1100000)\n",
    "        fee = random.randint(amount, amount+1000)\n",
    "        trns = create_signed_transaction(user_list[randlist[0]].private_key,\n",
    "                                        address(user_list[randlist[1]].private_key),\n",
    "                                        amount,\n",
    "                                        fee,\n",
    "                                        states[address(user_list[randlist[0]].private_key).hex()].nonce)\n",
    "        transList.append(trns)\n",
    "    return transList"
   ]
  },
  {
   "cell_type": "markdown",
   "metadata": {},
   "source": [
    "We use the functions for our scenario"
   ]
  },
  {
   "cell_type": "code",
   "execution_count": 40,
   "metadata": {},
   "outputs": [],
   "source": [
    "# Assigning the previous block_id\n",
    "previous_block_id = binascii.unhexlify(\"0000f6950db0d81eb1eacaf96cf4687d568a40681e0e36793b8da991bc4bbbbe\")\n",
    "# Assigning the heigh\n",
    "height = 3\n",
    "# Randomly selecting a miner from the pool of uses\n",
    "miner_hash = address(UserList[random.randint(0, 9)].private_key)\n",
    "timestamp = int(time.time())\n",
    "# We set the expected number of tries for a solution to be found\n",
    "difficulty = 50000\n",
    "\n",
    "\n",
    "# We create a list of invalid transactions\n",
    "transList_7 = random_transactions_invalid(glob_record, UserList)"
   ]
  },
  {
   "cell_type": "markdown",
   "metadata": {},
   "source": [
    "We mine the block."
   ]
  },
  {
   "cell_type": "code",
   "execution_count": 41,
   "metadata": {},
   "outputs": [
    {
     "name": "stdout",
     "output_type": "stream",
     "text": [
      "000027e814ee966852d0db5639fedf820033b56eb94c194a7e033f91702ef184 4916280010388234577\n"
     ]
    }
   ],
   "source": [
    "block_7 = mine_block(previous_block_id, height, miner_hash, transList_7, timestamp, difficulty)"
   ]
  },
  {
   "cell_type": "markdown",
   "metadata": {},
   "source": [
    "The verification of the list of the transactions fails."
   ]
  },
  {
   "cell_type": "code",
   "execution_count": 42,
   "metadata": {},
   "outputs": [
    {
     "name": "stdout",
     "output_type": "stream",
     "text": [
      "\n",
      "\n",
      "---------PENDING TRANSACTION (not yet vefified)----------\n",
      "Sender's address: 01f45e9a36a2d02c2283effdf37be76e5daf1991\n",
      "Recipient's address: d30da13581059a0a18078568984fed83033eeccf\n",
      "Amount to be tranfered: 823232\n",
      "Fee to be charged for this transaction: 823553\n",
      "\n",
      "**Please note that the sender will be charged with the fee for this transaction**\n",
      "\n",
      "\n"
     ]
    },
    {
     "ename": "Exception",
     "evalue": "\n\nVERIFICATION FAILED: Sender has not enough zimcoins for this transaction\n\n",
     "output_type": "error",
     "traceback": [
      "\u001b[0;31m---------------------------------------------------------------------------\u001b[0m",
      "\u001b[0;31mException\u001b[0m                                 Traceback (most recent call last)",
      "\u001b[0;32m<ipython-input-42-801c8dca2215>\u001b[0m in \u001b[0;36m<module>\u001b[0;34m\u001b[0m\n\u001b[0;32m----> 1\u001b[0;31m \u001b[0mblock_7\u001b[0m\u001b[0;34m.\u001b[0m\u001b[0mverify_and_get_changes\u001b[0m\u001b[0;34m(\u001b[0m\u001b[0mdifficulty\u001b[0m\u001b[0;34m,\u001b[0m \u001b[0mglob_record\u001b[0m\u001b[0;34m)\u001b[0m\u001b[0;34m\u001b[0m\u001b[0;34m\u001b[0m\u001b[0m\n\u001b[0m",
      "\u001b[0;32m<ipython-input-14-14f067284a5c>\u001b[0m in \u001b[0;36mverify_and_get_changes\u001b[0;34m(self, difficulty, previous_user_states)\u001b[0m\n\u001b[1;32m    160\u001b[0m             \u001b[0;32melse\u001b[0m\u001b[0;34m:\u001b[0m\u001b[0;34m\u001b[0m\u001b[0;34m\u001b[0m\u001b[0m\n\u001b[1;32m    161\u001b[0m                 \u001b[0mprint\u001b[0m \u001b[0;34m(\u001b[0m\u001b[0mtr\u001b[0m\u001b[0;34m)\u001b[0m\u001b[0;34m\u001b[0m\u001b[0;34m\u001b[0m\u001b[0m\n\u001b[0;32m--> 162\u001b[0;31m                 \u001b[0;32mif\u001b[0m \u001b[0mtr\u001b[0m\u001b[0;34m.\u001b[0m\u001b[0mverify\u001b[0m\u001b[0;34m(\u001b[0m\u001b[0mself\u001b[0m\u001b[0;34m.\u001b[0m\u001b[0mglobal_record\u001b[0m\u001b[0;34m[\u001b[0m\u001b[0mtr\u001b[0m\u001b[0;34m.\u001b[0m\u001b[0msender_hash\u001b[0m\u001b[0;34m.\u001b[0m\u001b[0mhex\u001b[0m\u001b[0;34m(\u001b[0m\u001b[0;34m)\u001b[0m\u001b[0;34m]\u001b[0m\u001b[0;34m.\u001b[0m\u001b[0mbalance\u001b[0m\u001b[0;34m,\u001b[0m \u001b[0mself\u001b[0m\u001b[0;34m.\u001b[0m\u001b[0mglobal_record\u001b[0m\u001b[0;34m[\u001b[0m\u001b[0mtr\u001b[0m\u001b[0;34m.\u001b[0m\u001b[0msender_hash\u001b[0m\u001b[0;34m.\u001b[0m\u001b[0mhex\u001b[0m\u001b[0;34m(\u001b[0m\u001b[0;34m)\u001b[0m\u001b[0;34m]\u001b[0m\u001b[0;34m.\u001b[0m\u001b[0mnonce\u001b[0m\u001b[0;34m-\u001b[0m\u001b[0;36m1\u001b[0m\u001b[0;34m)\u001b[0m\u001b[0;34m:\u001b[0m\u001b[0;34m\u001b[0m\u001b[0;34m\u001b[0m\u001b[0m\n\u001b[0m\u001b[1;32m    163\u001b[0m \u001b[0;34m\u001b[0m\u001b[0m\n\u001b[1;32m    164\u001b[0m                     \u001b[0;31m# Updating users' status on global record after verified transactions\u001b[0m\u001b[0;34m\u001b[0m\u001b[0;34m\u001b[0m\u001b[0;34m\u001b[0m\u001b[0m\n",
      "\u001b[0;32m~/Desktop/Blockchain_courseworks/to_zip_3/ZimCoinUtils.py\u001b[0m in \u001b[0;36mverify\u001b[0;34m(self, sender_balance, sender_previous_nonce)\u001b[0m\n\u001b[1;32m    270\u001b[0m         \u001b[0;31m# to make this transaction\u001b[0m\u001b[0;34m\u001b[0m\u001b[0;34m\u001b[0m\u001b[0;34m\u001b[0m\u001b[0m\n\u001b[1;32m    271\u001b[0m         \u001b[0;32mif\u001b[0m \u001b[0msender_balance\u001b[0m \u001b[0;34m<\u001b[0m \u001b[0mint\u001b[0m\u001b[0;34m(\u001b[0m\u001b[0mself\u001b[0m\u001b[0;34m.\u001b[0m\u001b[0mamount\u001b[0m\u001b[0;34m)\u001b[0m\u001b[0;34m:\u001b[0m  \u001b[0;31m####if sender_balance < int(self.amount + self.fee):\u001b[0m\u001b[0;34m\u001b[0m\u001b[0;34m\u001b[0m\u001b[0m\n\u001b[0;32m--> 272\u001b[0;31m             \u001b[0;32mraise\u001b[0m \u001b[0mException\u001b[0m\u001b[0;34m(\u001b[0m\u001b[0;34mf\"\\n\\nVERIFICATION FAILED: Sender has not enough zimcoins for this transaction\\n\\n\"\u001b[0m\u001b[0;34m)\u001b[0m\u001b[0;34m\u001b[0m\u001b[0;34m\u001b[0m\u001b[0m\n\u001b[0m\u001b[1;32m    273\u001b[0m         \u001b[0;32mif\u001b[0m \u001b[0mself\u001b[0m\u001b[0;34m.\u001b[0m\u001b[0mamount\u001b[0m \u001b[0;32mnot\u001b[0m \u001b[0;32min\u001b[0m \u001b[0mrange\u001b[0m\u001b[0;34m(\u001b[0m\u001b[0;36m1\u001b[0m\u001b[0;34m,\u001b[0m \u001b[0msender_balance\u001b[0m \u001b[0;34m+\u001b[0m \u001b[0;36m1\u001b[0m\u001b[0;34m)\u001b[0m\u001b[0;34m:\u001b[0m\u001b[0;34m\u001b[0m\u001b[0;34m\u001b[0m\u001b[0m\n\u001b[1;32m    274\u001b[0m             \u001b[0;32mraise\u001b[0m \u001b[0mException\u001b[0m\u001b[0;34m(\u001b[0m\u001b[0;34mf\"\\n\\nVERIFICATION FAILED: {self.amount} is not a invalid amount of zimcoins\\n\\n\"\u001b[0m\u001b[0;34m)\u001b[0m\u001b[0;34m\u001b[0m\u001b[0;34m\u001b[0m\u001b[0m\n",
      "\u001b[0;31mException\u001b[0m: \n\nVERIFICATION FAILED: Sender has not enough zimcoins for this transaction\n\n"
     ]
    }
   ],
   "source": [
    "block_7.verify_and_get_changes(difficulty, glob_record)"
   ]
  }
 ],
 "metadata": {
  "kernelspec": {
   "display_name": "Python 3 (ipykernel)",
   "language": "python",
   "name": "python3"
  },
  "language_info": {
   "codemirror_mode": {
    "name": "ipython",
    "version": 3
   },
   "file_extension": ".py",
   "mimetype": "text/x-python",
   "name": "python",
   "nbconvert_exporter": "python",
   "pygments_lexer": "ipython3",
   "version": "3.9.12"
  }
 },
 "nbformat": 4,
 "nbformat_minor": 4
}
